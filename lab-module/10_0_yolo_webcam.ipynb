{
  "nbformat": 4,
  "nbformat_minor": 0,
  "metadata": {
    "colab": {
      "provenance": [],
      "machine_shape": "hm",
      "gpuType": "A100"
    },
    "kernelspec": {
      "name": "python3",
      "display_name": "Python 3"
    },
    "language_info": {
      "name": "python"
    },
    "accelerator": "GPU"
  },
  "cells": [
        {
            "cell_type": "markdown",
            "metadata": {
                "id": "view-in-github",
                "colab_type": "text"
            },
            "source": [
                "<a href=\"https://colab.research.google.com/github/dr-zool/tcu-ai/blob/main/lab-module/10_0_yolo_webcam.ipynb\" target=\"_parent\"><img src=\"https://colab.research.google.com/assets/colab-badge.svg\" alt=\"Open In Colab\"/></a>"
            ]
        },
    {
      "cell_type": "code",
      "source": [
        "!pip install supervision\n",
        "!pip install inference-gpu[yolo-world]\n",
        "#!pip install inference-cpu[yolo-world]"
      ],
      "metadata": {
        "id": "aCf197LFdMUZ",
        "colab": {
          "base_uri": "https://localhost:8080/",
          "height": 1000
        },
        "outputId": "295b7d39-f68e-4ffb-9ed3-9487b229deaf"
      },
      "execution_count": 1,
      "outputs": [
        {
          "output_type": "stream",
          "name": "stdout",
          "text": [
            "Collecting supervision\n",
            "  Downloading supervision-0.25.0-py3-none-any.whl.metadata (14 kB)\n",
            "Requirement already satisfied: contourpy>=1.0.7 in /usr/local/lib/python3.10/dist-packages (from supervision) (1.3.1)\n",
            "Requirement already satisfied: defusedxml<0.8.0,>=0.7.1 in /usr/local/lib/python3.10/dist-packages (from supervision) (0.7.1)\n",
            "Requirement already satisfied: matplotlib>=3.6.0 in /usr/local/lib/python3.10/dist-packages (from supervision) (3.8.0)\n",
            "Requirement already satisfied: numpy>=1.23.3 in /usr/local/lib/python3.10/dist-packages (from supervision) (1.26.4)\n",
            "Requirement already satisfied: opencv-python>=4.5.5.64 in /usr/local/lib/python3.10/dist-packages (from supervision) (4.10.0.84)\n",
            "Requirement already satisfied: pillow>=9.4 in /usr/local/lib/python3.10/dist-packages (from supervision) (11.0.0)\n",
            "Requirement already satisfied: pyyaml>=5.3 in /usr/local/lib/python3.10/dist-packages (from supervision) (6.0.2)\n",
            "Requirement already satisfied: scipy<2.0.0,>=1.10.0 in /usr/local/lib/python3.10/dist-packages (from supervision) (1.13.1)\n",
            "Requirement already satisfied: cycler>=0.10 in /usr/local/lib/python3.10/dist-packages (from matplotlib>=3.6.0->supervision) (0.12.1)\n",
            "Requirement already satisfied: fonttools>=4.22.0 in /usr/local/lib/python3.10/dist-packages (from matplotlib>=3.6.0->supervision) (4.55.0)\n",
            "Requirement already satisfied: kiwisolver>=1.0.1 in /usr/local/lib/python3.10/dist-packages (from matplotlib>=3.6.0->supervision) (1.4.7)\n",
            "Requirement already satisfied: packaging>=20.0 in /usr/local/lib/python3.10/dist-packages (from matplotlib>=3.6.0->supervision) (24.2)\n",
            "Requirement already satisfied: pyparsing>=2.3.1 in /usr/local/lib/python3.10/dist-packages (from matplotlib>=3.6.0->supervision) (3.2.0)\n",
            "Requirement already satisfied: python-dateutil>=2.7 in /usr/local/lib/python3.10/dist-packages (from matplotlib>=3.6.0->supervision) (2.8.2)\n",
            "Requirement already satisfied: six>=1.5 in /usr/local/lib/python3.10/dist-packages (from python-dateutil>=2.7->matplotlib>=3.6.0->supervision) (1.16.0)\n",
            "Downloading supervision-0.25.0-py3-none-any.whl (181 kB)\n",
            "\u001b[2K   \u001b[90m━━━━━━━━━━━━━━━━━━━━━━━━━━━━━━━━━━━━━━━━\u001b[0m \u001b[32m181.5/181.5 kB\u001b[0m \u001b[31m943.3 kB/s\u001b[0m eta \u001b[36m0:00:00\u001b[0m\n",
            "\u001b[?25hInstalling collected packages: supervision\n",
            "Successfully installed supervision-0.25.0\n",
            "Collecting inference-gpu[yolo-world]\n",
            "  Downloading inference_gpu-0.29.1-py3-none-any.whl.metadata (15 kB)\n",
            "Collecting aiortc<2.0.0,>=1.9.0 (from inference-gpu[yolo-world])\n",
            "  Downloading aiortc-1.9.0-cp38-abi3-manylinux_2_17_x86_64.manylinux2014_x86_64.whl.metadata (5.5 kB)\n",
            "Collecting APScheduler<4.0.0,>=3.10.1 (from inference-gpu[yolo-world])\n",
            "  Downloading APScheduler-3.11.0-py3-none-any.whl.metadata (6.4 kB)\n",
            "Collecting asyncua~=1.1.5 (from inference-gpu[yolo-world])\n",
            "  Downloading asyncua-1.1.5-py3-none-any.whl.metadata (9.5 kB)\n",
            "Requirement already satisfied: cython~=3.0.0 in /usr/local/lib/python3.10/dist-packages (from inference-gpu[yolo-world]) (3.0.11)\n",
            "Collecting python-dotenv~=1.0.0 (from inference-gpu[yolo-world])\n",
            "  Downloading python_dotenv-1.0.1-py3-none-any.whl.metadata (23 kB)\n",
            "Collecting fastapi<0.111,>=0.100 (from inference-gpu[yolo-world])\n",
            "  Downloading fastapi-0.110.3-py3-none-any.whl.metadata (24 kB)\n",
            "Requirement already satisfied: numpy<=1.26.4 in /usr/local/lib/python3.10/dist-packages (from inference-gpu[yolo-world]) (1.26.4)\n",
            "Requirement already satisfied: opencv-python<=4.10.0.84,>=4.8.1.78 in /usr/local/lib/python3.10/dist-packages (from inference-gpu[yolo-world]) (4.10.0.84)\n",
            "Collecting pillow<11.0 (from inference-gpu[yolo-world])\n",
            "  Downloading pillow-10.4.0-cp310-cp310-manylinux_2_28_x86_64.whl.metadata (9.2 kB)\n",
            "Collecting prometheus-fastapi-instrumentator<=6.0.0 (from inference-gpu[yolo-world])\n",
            "  Downloading prometheus_fastapi_instrumentator-6.0.0-py3-none-any.whl.metadata (13 kB)\n",
            "Collecting redis~=5.0.0 (from inference-gpu[yolo-world])\n",
            "  Downloading redis-5.0.8-py3-none-any.whl.metadata (9.2 kB)\n",
            "Requirement already satisfied: requests<3.0.0,>=2.32.0 in /usr/local/lib/python3.10/dist-packages (from inference-gpu[yolo-world]) (2.32.3)\n",
            "Collecting rich~=13.0.0 (from inference-gpu[yolo-world])\n",
            "  Downloading rich-13.0.1-py3-none-any.whl.metadata (18 kB)\n",
            "Collecting supervision<=0.22.0,>=0.21.0 (from inference-gpu[yolo-world])\n",
            "  Downloading supervision-0.22.0-py3-none-any.whl.metadata (13 kB)\n",
            "Collecting pybase64~=1.0.0 (from inference-gpu[yolo-world])\n",
            "  Downloading pybase64-1.0.2.tar.gz (105 kB)\n",
            "\u001b[2K     \u001b[90m━━━━━━━━━━━━━━━━━━━━━━━━━━━━━━━━━━━━━━━━\u001b[0m \u001b[32m105.7/105.7 kB\u001b[0m \u001b[31m5.4 MB/s\u001b[0m eta \u001b[36m0:00:00\u001b[0m\n",
            "\u001b[?25h  Installing build dependencies ... \u001b[?25l\u001b[?25hdone\n",
            "  Getting requirements to build wheel ... \u001b[?25l\u001b[?25hdone\n",
            "  Preparing metadata (pyproject.toml) ... \u001b[?25l\u001b[?25hdone\n",
            "Requirement already satisfied: scikit-image<=0.24.0,>=0.19.0 in /usr/local/lib/python3.10/dist-packages (from inference-gpu[yolo-world]) (0.24.0)\n",
            "Requirement already satisfied: requests-toolbelt~=1.0.0 in /usr/local/lib/python3.10/dist-packages (from inference-gpu[yolo-world]) (1.0.0)\n",
            "Requirement already satisfied: wheel<=0.45.0,>=0.38.1 in /usr/local/lib/python3.10/dist-packages (from inference-gpu[yolo-world]) (0.45.0)\n",
            "Requirement already satisfied: setuptools>=70.0.0 in /usr/local/lib/python3.10/dist-packages (from inference-gpu[yolo-world]) (75.1.0)\n",
            "Requirement already satisfied: networkx~=3.1 in /usr/local/lib/python3.10/dist-packages (from inference-gpu[yolo-world]) (3.4.2)\n",
            "Requirement already satisfied: pydantic~=2.6 in /usr/local/lib/python3.10/dist-packages (from inference-gpu[yolo-world]) (2.9.2)\n",
            "Collecting pydantic-settings~=2.2 (from inference-gpu[yolo-world])\n",
            "  Downloading pydantic_settings-2.6.1-py3-none-any.whl.metadata (3.5 kB)\n",
            "Requirement already satisfied: openai<2.0.0,>=1.12.0 in /usr/local/lib/python3.10/dist-packages (from inference-gpu[yolo-world]) (1.54.4)\n",
            "Collecting structlog<25.0.0,>=24.1.0 (from inference-gpu[yolo-world])\n",
            "  Downloading structlog-24.4.0-py3-none-any.whl.metadata (7.3 kB)\n",
            "Collecting zxing-cpp~=2.2.0 (from inference-gpu[yolo-world])\n",
            "  Downloading zxing_cpp-2.2.0-cp310-cp310-manylinux_2_17_x86_64.manylinux2014_x86_64.whl.metadata (1.9 kB)\n",
            "Collecting boto3<=1.35.60 (from inference-gpu[yolo-world])\n",
            "  Downloading boto3-1.35.60-py3-none-any.whl.metadata (6.7 kB)\n",
            "Requirement already satisfied: typing_extensions<=4.12.2,>=4.8.0 in /usr/local/lib/python3.10/dist-packages (from inference-gpu[yolo-world]) (4.12.2)\n",
            "Collecting pydot~=2.0.0 (from inference-gpu[yolo-world])\n",
            "  Downloading pydot-2.0.0-py3-none-any.whl.metadata (9.6 kB)\n",
            "Requirement already satisfied: shapely<2.1.0,>=2.0.0 in /usr/local/lib/python3.10/dist-packages (from inference-gpu[yolo-world]) (2.0.6)\n",
            "Collecting tldextract~=5.1.2 (from inference-gpu[yolo-world])\n",
            "  Downloading tldextract-5.1.3-py3-none-any.whl.metadata (11 kB)\n",
            "Requirement already satisfied: packaging~=24.0 in /usr/local/lib/python3.10/dist-packages (from inference-gpu[yolo-world]) (24.2)\n",
            "Collecting anthropic~=0.34.2 (from inference-gpu[yolo-world])\n",
            "  Downloading anthropic-0.34.2-py3-none-any.whl.metadata (18 kB)\n",
            "Requirement already satisfied: pandas<2.3.0,>=2.0.0 in /usr/local/lib/python3.10/dist-packages (from inference-gpu[yolo-world]) (2.2.2)\n",
            "Requirement already satisfied: pytest<9.0.0,>=8.0.0 in /usr/local/lib/python3.10/dist-packages (from inference-gpu[yolo-world]) (8.3.3)\n",
            "Requirement already satisfied: tokenizers<=0.20.3,>=0.19.0 in /usr/local/lib/python3.10/dist-packages (from inference-gpu[yolo-world]) (0.20.3)\n",
            "Collecting slack-sdk~=3.33.4 (from inference-gpu[yolo-world])\n",
            "  Downloading slack_sdk-3.33.4-py2.py3-none-any.whl.metadata (15 kB)\n",
            "Collecting twilio~=9.3.7 (from inference-gpu[yolo-world])\n",
            "  Downloading twilio-9.3.7-py2.py3-none-any.whl.metadata (12 kB)\n",
            "Collecting httpx~=0.25.1 (from inference-gpu[yolo-world])\n",
            "  Downloading httpx-0.25.2-py3-none-any.whl.metadata (6.9 kB)\n",
            "Collecting onnxruntime-gpu<1.20.0,>=1.15.1 (from inference-gpu[yolo-world])\n",
            "  Downloading onnxruntime_gpu-1.19.2-cp310-cp310-manylinux_2_27_x86_64.manylinux_2_28_x86_64.whl.metadata (4.5 kB)\n",
            "Collecting docker<8.0.0,>=7.0.0 (from inference-gpu[yolo-world])\n",
            "  Downloading docker-7.1.0-py3-none-any.whl.metadata (3.8 kB)\n",
            "Collecting typer<=0.12.5,>=0.9.0 (from inference-gpu[yolo-world])\n",
            "  Downloading typer-0.12.5-py3-none-any.whl.metadata (15 kB)\n",
            "Requirement already satisfied: PyYAML~=6.0.0 in /usr/local/lib/python3.10/dist-packages (from inference-gpu[yolo-world]) (6.0.2)\n",
            "Requirement already satisfied: tqdm<5.0.0,>=4.0.0 in /usr/local/lib/python3.10/dist-packages (from inference-gpu[yolo-world]) (4.66.6)\n",
            "Collecting GPUtil~=1.4.0 (from inference-gpu[yolo-world])\n",
            "  Downloading GPUtil-1.4.0.tar.gz (5.5 kB)\n",
            "  Preparing metadata (setup.py) ... \u001b[?25l\u001b[?25hdone\n",
            "Requirement already satisfied: py-cpuinfo~=9.0.0 in /usr/local/lib/python3.10/dist-packages (from inference-gpu[yolo-world]) (9.0.0)\n",
            "Collecting aiohttp<=3.10.11,>=3.9.0 (from inference-gpu[yolo-world])\n",
            "  Downloading aiohttp-3.10.11-cp310-cp310-manylinux_2_17_x86_64.manylinux2014_x86_64.whl.metadata (7.7 kB)\n",
            "Collecting backoff~=2.2.0 (from inference-gpu[yolo-world])\n",
            "  Downloading backoff-2.2.1-py3-none-any.whl.metadata (14 kB)\n",
            "Collecting dataclasses-json~=0.6.0 (from inference-gpu[yolo-world])\n",
            "  Downloading dataclasses_json-0.6.7-py3-none-any.whl.metadata (25 kB)\n",
            "Collecting ultralytics>=8.1.27 (from inference-gpu[yolo-world])\n",
            "  Downloading ultralytics-8.3.40-py3-none-any.whl.metadata (35 kB)\n",
            "Collecting dill==0.3.8 (from inference-gpu[yolo-world])\n",
            "  Downloading dill-0.3.8-py3-none-any.whl.metadata (10 kB)\n",
            "Collecting rf-clip==1.1 (from inference-gpu[yolo-world])\n",
            "  Downloading rf_clip-1.1-py3-none-any.whl.metadata (280 bytes)\n",
            "Collecting ftfy (from rf-clip==1.1->inference-gpu[yolo-world])\n",
            "  Downloading ftfy-6.3.1-py3-none-any.whl.metadata (7.3 kB)\n",
            "Requirement already satisfied: regex in /usr/local/lib/python3.10/dist-packages (from rf-clip==1.1->inference-gpu[yolo-world]) (2024.9.11)\n",
            "Requirement already satisfied: torch in /usr/local/lib/python3.10/dist-packages (from rf-clip==1.1->inference-gpu[yolo-world]) (2.5.1+cu121)\n",
            "Requirement already satisfied: torchvision in /usr/local/lib/python3.10/dist-packages (from rf-clip==1.1->inference-gpu[yolo-world]) (0.20.1+cu121)\n",
            "Requirement already satisfied: aiohappyeyeballs>=2.3.0 in /usr/local/lib/python3.10/dist-packages (from aiohttp<=3.10.11,>=3.9.0->inference-gpu[yolo-world]) (2.4.3)\n",
            "Requirement already satisfied: aiosignal>=1.1.2 in /usr/local/lib/python3.10/dist-packages (from aiohttp<=3.10.11,>=3.9.0->inference-gpu[yolo-world]) (1.3.1)\n",
            "Requirement already satisfied: attrs>=17.3.0 in /usr/local/lib/python3.10/dist-packages (from aiohttp<=3.10.11,>=3.9.0->inference-gpu[yolo-world]) (24.2.0)\n",
            "Requirement already satisfied: frozenlist>=1.1.1 in /usr/local/lib/python3.10/dist-packages (from aiohttp<=3.10.11,>=3.9.0->inference-gpu[yolo-world]) (1.5.0)\n",
            "Requirement already satisfied: multidict<7.0,>=4.5 in /usr/local/lib/python3.10/dist-packages (from aiohttp<=3.10.11,>=3.9.0->inference-gpu[yolo-world]) (6.1.0)\n",
            "Requirement already satisfied: yarl<2.0,>=1.12.0 in /usr/local/lib/python3.10/dist-packages (from aiohttp<=3.10.11,>=3.9.0->inference-gpu[yolo-world]) (1.17.2)\n",
            "Requirement already satisfied: async-timeout<6.0,>=4.0 in /usr/local/lib/python3.10/dist-packages (from aiohttp<=3.10.11,>=3.9.0->inference-gpu[yolo-world]) (4.0.3)\n",
            "Collecting aioice<1.0.0,>=0.9.0 (from aiortc<2.0.0,>=1.9.0->inference-gpu[yolo-world])\n",
            "  Downloading aioice-0.9.0-py3-none-any.whl.metadata (3.8 kB)\n",
            "Collecting av<13.0.0,>=9.0.0 (from aiortc<2.0.0,>=1.9.0->inference-gpu[yolo-world])\n",
            "  Downloading av-12.3.0-cp310-cp310-manylinux_2_17_x86_64.manylinux2014_x86_64.whl.metadata (4.6 kB)\n",
            "Requirement already satisfied: cffi>=1.0.0 in /usr/local/lib/python3.10/dist-packages (from aiortc<2.0.0,>=1.9.0->inference-gpu[yolo-world]) (1.17.1)\n",
            "Requirement already satisfied: cryptography>=42.0.0 in /usr/local/lib/python3.10/dist-packages (from aiortc<2.0.0,>=1.9.0->inference-gpu[yolo-world]) (43.0.3)\n",
            "Requirement already satisfied: google-crc32c>=1.1 in /usr/local/lib/python3.10/dist-packages (from aiortc<2.0.0,>=1.9.0->inference-gpu[yolo-world]) (1.6.0)\n",
            "Collecting pyee>=9.0.0 (from aiortc<2.0.0,>=1.9.0->inference-gpu[yolo-world])\n",
            "  Downloading pyee-12.1.1-py3-none-any.whl.metadata (2.9 kB)\n",
            "Collecting pylibsrtp>=0.10.0 (from aiortc<2.0.0,>=1.9.0->inference-gpu[yolo-world])\n",
            "  Downloading pylibsrtp-0.10.0-cp38-abi3-manylinux_2_17_x86_64.manylinux2014_x86_64.whl.metadata (3.8 kB)\n",
            "Requirement already satisfied: pyopenssl>=24.0.0 in /usr/local/lib/python3.10/dist-packages (from aiortc<2.0.0,>=1.9.0->inference-gpu[yolo-world]) (24.2.1)\n",
            "Requirement already satisfied: anyio<5,>=3.5.0 in /usr/local/lib/python3.10/dist-packages (from anthropic~=0.34.2->inference-gpu[yolo-world]) (3.7.1)\n",
            "Requirement already satisfied: distro<2,>=1.7.0 in /usr/local/lib/python3.10/dist-packages (from anthropic~=0.34.2->inference-gpu[yolo-world]) (1.9.0)\n",
            "Requirement already satisfied: jiter<1,>=0.4.0 in /usr/local/lib/python3.10/dist-packages (from anthropic~=0.34.2->inference-gpu[yolo-world]) (0.7.1)\n",
            "Requirement already satisfied: sniffio in /usr/local/lib/python3.10/dist-packages (from anthropic~=0.34.2->inference-gpu[yolo-world]) (1.3.1)\n",
            "Requirement already satisfied: tzlocal>=3.0 in /usr/local/lib/python3.10/dist-packages (from APScheduler<4.0.0,>=3.10.1->inference-gpu[yolo-world]) (5.2)\n",
            "Collecting aiofiles (from asyncua~=1.1.5->inference-gpu[yolo-world])\n",
            "  Downloading aiofiles-24.1.0-py3-none-any.whl.metadata (10 kB)\n",
            "Collecting aiosqlite (from asyncua~=1.1.5->inference-gpu[yolo-world])\n",
            "  Downloading aiosqlite-0.20.0-py3-none-any.whl.metadata (4.3 kB)\n",
            "Requirement already satisfied: python-dateutil in /usr/local/lib/python3.10/dist-packages (from asyncua~=1.1.5->inference-gpu[yolo-world]) (2.8.2)\n",
            "Requirement already satisfied: pytz in /usr/local/lib/python3.10/dist-packages (from asyncua~=1.1.5->inference-gpu[yolo-world]) (2024.2)\n",
            "Collecting sortedcontainers (from asyncua~=1.1.5->inference-gpu[yolo-world])\n",
            "  Downloading sortedcontainers-2.4.0-py2.py3-none-any.whl.metadata (10 kB)\n",
            "Collecting botocore<1.36.0,>=1.35.60 (from boto3<=1.35.60->inference-gpu[yolo-world])\n",
            "  Downloading botocore-1.35.74-py3-none-any.whl.metadata (5.7 kB)\n",
            "Collecting jmespath<2.0.0,>=0.7.1 (from boto3<=1.35.60->inference-gpu[yolo-world])\n",
            "  Downloading jmespath-1.0.1-py3-none-any.whl.metadata (7.6 kB)\n",
            "Collecting s3transfer<0.11.0,>=0.10.0 (from boto3<=1.35.60->inference-gpu[yolo-world])\n",
            "  Downloading s3transfer-0.10.4-py3-none-any.whl.metadata (1.7 kB)\n",
            "Collecting marshmallow<4.0.0,>=3.18.0 (from dataclasses-json~=0.6.0->inference-gpu[yolo-world])\n",
            "  Downloading marshmallow-3.23.1-py3-none-any.whl.metadata (7.5 kB)\n",
            "Collecting typing-inspect<1,>=0.4.0 (from dataclasses-json~=0.6.0->inference-gpu[yolo-world])\n",
            "  Downloading typing_inspect-0.9.0-py3-none-any.whl.metadata (1.5 kB)\n",
            "Requirement already satisfied: urllib3>=1.26.0 in /usr/local/lib/python3.10/dist-packages (from docker<8.0.0,>=7.0.0->inference-gpu[yolo-world]) (2.2.3)\n",
            "Collecting starlette<0.38.0,>=0.37.2 (from fastapi<0.111,>=0.100->inference-gpu[yolo-world])\n",
            "  Downloading starlette-0.37.2-py3-none-any.whl.metadata (5.9 kB)\n",
            "Requirement already satisfied: certifi in /usr/local/lib/python3.10/dist-packages (from httpx~=0.25.1->inference-gpu[yolo-world]) (2024.8.30)\n",
            "Requirement already satisfied: httpcore==1.* in /usr/local/lib/python3.10/dist-packages (from httpx~=0.25.1->inference-gpu[yolo-world]) (1.0.7)\n",
            "Requirement already satisfied: idna in /usr/local/lib/python3.10/dist-packages (from httpx~=0.25.1->inference-gpu[yolo-world]) (3.10)\n",
            "Requirement already satisfied: h11<0.15,>=0.13 in /usr/local/lib/python3.10/dist-packages (from httpcore==1.*->httpx~=0.25.1->inference-gpu[yolo-world]) (0.14.0)\n",
            "Collecting coloredlogs (from onnxruntime-gpu<1.20.0,>=1.15.1->inference-gpu[yolo-world])\n",
            "  Downloading coloredlogs-15.0.1-py2.py3-none-any.whl.metadata (12 kB)\n",
            "Requirement already satisfied: flatbuffers in /usr/local/lib/python3.10/dist-packages (from onnxruntime-gpu<1.20.0,>=1.15.1->inference-gpu[yolo-world]) (24.3.25)\n",
            "Requirement already satisfied: protobuf in /usr/local/lib/python3.10/dist-packages (from onnxruntime-gpu<1.20.0,>=1.15.1->inference-gpu[yolo-world]) (4.25.5)\n",
            "Requirement already satisfied: sympy in /usr/local/lib/python3.10/dist-packages (from onnxruntime-gpu<1.20.0,>=1.15.1->inference-gpu[yolo-world]) (1.13.1)\n",
            "Requirement already satisfied: tzdata>=2022.7 in /usr/local/lib/python3.10/dist-packages (from pandas<2.3.0,>=2.0.0->inference-gpu[yolo-world]) (2024.2)\n",
            "Requirement already satisfied: prometheus-client<1.0.0,>=0.8.0 in /usr/local/lib/python3.10/dist-packages (from prometheus-fastapi-instrumentator<=6.0.0->inference-gpu[yolo-world]) (0.21.0)\n",
            "Requirement already satisfied: annotated-types>=0.6.0 in /usr/local/lib/python3.10/dist-packages (from pydantic~=2.6->inference-gpu[yolo-world]) (0.7.0)\n",
            "Requirement already satisfied: pydantic-core==2.23.4 in /usr/local/lib/python3.10/dist-packages (from pydantic~=2.6->inference-gpu[yolo-world]) (2.23.4)\n",
            "Requirement already satisfied: pyparsing>=3 in /usr/local/lib/python3.10/dist-packages (from pydot~=2.0.0->inference-gpu[yolo-world]) (3.2.0)\n",
            "Requirement already satisfied: iniconfig in /usr/local/lib/python3.10/dist-packages (from pytest<9.0.0,>=8.0.0->inference-gpu[yolo-world]) (2.0.0)\n",
            "Requirement already satisfied: pluggy<2,>=1.5 in /usr/local/lib/python3.10/dist-packages (from pytest<9.0.0,>=8.0.0->inference-gpu[yolo-world]) (1.5.0)\n",
            "Requirement already satisfied: exceptiongroup>=1.0.0rc8 in /usr/local/lib/python3.10/dist-packages (from pytest<9.0.0,>=8.0.0->inference-gpu[yolo-world]) (1.2.2)\n",
            "Requirement already satisfied: tomli>=1 in /usr/local/lib/python3.10/dist-packages (from pytest<9.0.0,>=8.0.0->inference-gpu[yolo-world]) (2.1.0)\n",
            "Requirement already satisfied: charset-normalizer<4,>=2 in /usr/local/lib/python3.10/dist-packages (from requests<3.0.0,>=2.32.0->inference-gpu[yolo-world]) (3.4.0)\n",
            "Collecting commonmark<0.10.0,>=0.9.0 (from rich~=13.0.0->inference-gpu[yolo-world])\n",
            "  Downloading commonmark-0.9.1-py2.py3-none-any.whl.metadata (5.7 kB)\n",
            "Requirement already satisfied: pygments<3.0.0,>=2.6.0 in /usr/local/lib/python3.10/dist-packages (from rich~=13.0.0->inference-gpu[yolo-world]) (2.18.0)\n",
            "Requirement already satisfied: scipy>=1.9 in /usr/local/lib/python3.10/dist-packages (from scikit-image<=0.24.0,>=0.19.0->inference-gpu[yolo-world]) (1.13.1)\n",
            "Requirement already satisfied: imageio>=2.33 in /usr/local/lib/python3.10/dist-packages (from scikit-image<=0.24.0,>=0.19.0->inference-gpu[yolo-world]) (2.36.0)\n",
            "Requirement already satisfied: tifffile>=2022.8.12 in /usr/local/lib/python3.10/dist-packages (from scikit-image<=0.24.0,>=0.19.0->inference-gpu[yolo-world]) (2024.9.20)\n",
            "Requirement already satisfied: lazy-loader>=0.4 in /usr/local/lib/python3.10/dist-packages (from scikit-image<=0.24.0,>=0.19.0->inference-gpu[yolo-world]) (0.4)\n",
            "Requirement already satisfied: defusedxml<0.8.0,>=0.7.1 in /usr/local/lib/python3.10/dist-packages (from supervision<=0.22.0,>=0.21.0->inference-gpu[yolo-world]) (0.7.1)\n",
            "Requirement already satisfied: matplotlib>=3.6.0 in /usr/local/lib/python3.10/dist-packages (from supervision<=0.22.0,>=0.21.0->inference-gpu[yolo-world]) (3.8.0)\n",
            "Requirement already satisfied: opencv-python-headless>=4.5.5.64 in /usr/local/lib/python3.10/dist-packages (from supervision<=0.22.0,>=0.21.0->inference-gpu[yolo-world]) (4.10.0.84)\n",
            "Collecting requests-file>=1.4 (from tldextract~=5.1.2->inference-gpu[yolo-world])\n",
            "  Downloading requests_file-2.1.0-py2.py3-none-any.whl.metadata (1.7 kB)\n",
            "Requirement already satisfied: filelock>=3.0.8 in /usr/local/lib/python3.10/dist-packages (from tldextract~=5.1.2->inference-gpu[yolo-world]) (3.16.1)\n",
            "Requirement already satisfied: huggingface-hub<1.0,>=0.16.4 in /usr/local/lib/python3.10/dist-packages (from tokenizers<=0.20.3,>=0.19.0->inference-gpu[yolo-world]) (0.26.2)\n",
            "Requirement already satisfied: PyJWT<3.0.0,>=2.0.0 in /usr/local/lib/python3.10/dist-packages (from twilio~=9.3.7->inference-gpu[yolo-world]) (2.10.0)\n",
            "Collecting aiohttp-retry==2.8.3 (from twilio~=9.3.7->inference-gpu[yolo-world])\n",
            "  Downloading aiohttp_retry-2.8.3-py3-none-any.whl.metadata (8.9 kB)\n",
            "Requirement already satisfied: click>=8.0.0 in /usr/local/lib/python3.10/dist-packages (from typer<=0.12.5,>=0.9.0->inference-gpu[yolo-world]) (8.1.7)\n",
            "Requirement already satisfied: shellingham>=1.3.0 in /usr/local/lib/python3.10/dist-packages (from typer<=0.12.5,>=0.9.0->inference-gpu[yolo-world]) (1.5.4)\n",
            "Requirement already satisfied: psutil in /usr/local/lib/python3.10/dist-packages (from ultralytics>=8.1.27->inference-gpu[yolo-world]) (5.9.5)\n",
            "Requirement already satisfied: seaborn>=0.11.0 in /usr/local/lib/python3.10/dist-packages (from ultralytics>=8.1.27->inference-gpu[yolo-world]) (0.13.2)\n",
            "Collecting ultralytics-thop>=2.0.0 (from ultralytics>=8.1.27->inference-gpu[yolo-world])\n",
            "  Downloading ultralytics_thop-2.0.12-py3-none-any.whl.metadata (9.4 kB)\n",
            "Collecting dnspython>=2.0.0 (from aioice<1.0.0,>=0.9.0->aiortc<2.0.0,>=1.9.0->inference-gpu[yolo-world])\n",
            "  Downloading dnspython-2.7.0-py3-none-any.whl.metadata (5.8 kB)\n",
            "Collecting ifaddr>=0.2.0 (from aioice<1.0.0,>=0.9.0->aiortc<2.0.0,>=1.9.0->inference-gpu[yolo-world])\n",
            "  Downloading ifaddr-0.2.0-py3-none-any.whl.metadata (4.9 kB)\n",
            "Requirement already satisfied: pycparser in /usr/local/lib/python3.10/dist-packages (from cffi>=1.0.0->aiortc<2.0.0,>=1.9.0->inference-gpu[yolo-world]) (2.22)\n",
            "Requirement already satisfied: fsspec>=2023.5.0 in /usr/local/lib/python3.10/dist-packages (from huggingface-hub<1.0,>=0.16.4->tokenizers<=0.20.3,>=0.19.0->inference-gpu[yolo-world]) (2024.10.0)\n",
            "Requirement already satisfied: contourpy>=1.0.1 in /usr/local/lib/python3.10/dist-packages (from matplotlib>=3.6.0->supervision<=0.22.0,>=0.21.0->inference-gpu[yolo-world]) (1.3.1)\n",
            "Requirement already satisfied: cycler>=0.10 in /usr/local/lib/python3.10/dist-packages (from matplotlib>=3.6.0->supervision<=0.22.0,>=0.21.0->inference-gpu[yolo-world]) (0.12.1)\n",
            "Requirement already satisfied: fonttools>=4.22.0 in /usr/local/lib/python3.10/dist-packages (from matplotlib>=3.6.0->supervision<=0.22.0,>=0.21.0->inference-gpu[yolo-world]) (4.55.0)\n",
            "Requirement already satisfied: kiwisolver>=1.0.1 in /usr/local/lib/python3.10/dist-packages (from matplotlib>=3.6.0->supervision<=0.22.0,>=0.21.0->inference-gpu[yolo-world]) (1.4.7)\n",
            "Requirement already satisfied: six>=1.5 in /usr/local/lib/python3.10/dist-packages (from python-dateutil->asyncua~=1.1.5->inference-gpu[yolo-world]) (1.16.0)\n",
            "Requirement already satisfied: jinja2 in /usr/local/lib/python3.10/dist-packages (from torch->rf-clip==1.1->inference-gpu[yolo-world]) (3.1.4)\n",
            "Requirement already satisfied: mpmath<1.4,>=1.1.0 in /usr/local/lib/python3.10/dist-packages (from sympy->onnxruntime-gpu<1.20.0,>=1.15.1->inference-gpu[yolo-world]) (1.3.0)\n",
            "Collecting mypy-extensions>=0.3.0 (from typing-inspect<1,>=0.4.0->dataclasses-json~=0.6.0->inference-gpu[yolo-world])\n",
            "  Downloading mypy_extensions-1.0.0-py3-none-any.whl.metadata (1.1 kB)\n",
            "Requirement already satisfied: propcache>=0.2.0 in /usr/local/lib/python3.10/dist-packages (from yarl<2.0,>=1.12.0->aiohttp<=3.10.11,>=3.9.0->inference-gpu[yolo-world]) (0.2.0)\n",
            "Collecting humanfriendly>=9.1 (from coloredlogs->onnxruntime-gpu<1.20.0,>=1.15.1->inference-gpu[yolo-world])\n",
            "  Downloading humanfriendly-10.0-py2.py3-none-any.whl.metadata (9.2 kB)\n",
            "Requirement already satisfied: wcwidth in /usr/local/lib/python3.10/dist-packages (from ftfy->rf-clip==1.1->inference-gpu[yolo-world]) (0.2.13)\n",
            "Requirement already satisfied: MarkupSafe>=2.0 in /usr/local/lib/python3.10/dist-packages (from jinja2->torch->rf-clip==1.1->inference-gpu[yolo-world]) (3.0.2)\n",
            "Downloading dill-0.3.8-py3-none-any.whl (116 kB)\n",
            "\u001b[2K   \u001b[90m━━━━━━━━━━━━━━━━━━━━━━━━━━━━━━━━━━━━━━━━\u001b[0m \u001b[32m116.3/116.3 kB\u001b[0m \u001b[31m11.3 MB/s\u001b[0m eta \u001b[36m0:00:00\u001b[0m\n",
            "\u001b[?25hDownloading rf_clip-1.1-py3-none-any.whl (1.4 MB)\n",
            "\u001b[2K   \u001b[90m━━━━━━━━━━━━━━━━━━━━━━━━━━━━━━━━━━━━━━━━\u001b[0m \u001b[32m1.4/1.4 MB\u001b[0m \u001b[31m44.0 MB/s\u001b[0m eta \u001b[36m0:00:00\u001b[0m\n",
            "\u001b[?25hDownloading aiohttp-3.10.11-cp310-cp310-manylinux_2_17_x86_64.manylinux2014_x86_64.whl (1.2 MB)\n",
            "\u001b[2K   \u001b[90m━━━━━━━━━━━━━━━━━━━━━━━━━━━━━━━━━━━━━━━━\u001b[0m \u001b[32m1.2/1.2 MB\u001b[0m \u001b[31m63.4 MB/s\u001b[0m eta \u001b[36m0:00:00\u001b[0m\n",
            "\u001b[?25hDownloading aiortc-1.9.0-cp38-abi3-manylinux_2_17_x86_64.manylinux2014_x86_64.whl (1.9 MB)\n",
            "\u001b[2K   \u001b[90m━━━━━━━━━━━━━━━━━━━━━━━━━━━━━━━━━━━━━━━━\u001b[0m \u001b[32m1.9/1.9 MB\u001b[0m \u001b[31m73.5 MB/s\u001b[0m eta \u001b[36m0:00:00\u001b[0m\n",
            "\u001b[?25hDownloading anthropic-0.34.2-py3-none-any.whl (891 kB)\n",
            "\u001b[2K   \u001b[90m━━━━━━━━━━━━━━━━━━━━━━━━━━━━━━━━━━━━━━━━\u001b[0m \u001b[32m891.9/891.9 kB\u001b[0m \u001b[31m55.0 MB/s\u001b[0m eta \u001b[36m0:00:00\u001b[0m\n",
            "\u001b[?25hDownloading APScheduler-3.11.0-py3-none-any.whl (64 kB)\n",
            "\u001b[2K   \u001b[90m━━━━━━━━━━━━━━━━━━━━━━━━━━━━━━━━━━━━━━━━\u001b[0m \u001b[32m64.0/64.0 kB\u001b[0m \u001b[31m6.4 MB/s\u001b[0m eta \u001b[36m0:00:00\u001b[0m\n",
            "\u001b[?25hDownloading asyncua-1.1.5-py3-none-any.whl (774 kB)\n",
            "\u001b[2K   \u001b[90m━━━━━━━━━━━━━━━━━━━━━━━━━━━━━━━━━━━━━━━━\u001b[0m \u001b[32m774.7/774.7 kB\u001b[0m \u001b[31m48.9 MB/s\u001b[0m eta \u001b[36m0:00:00\u001b[0m\n",
            "\u001b[?25hDownloading backoff-2.2.1-py3-none-any.whl (15 kB)\n",
            "Downloading boto3-1.35.60-py3-none-any.whl (139 kB)\n",
            "\u001b[2K   \u001b[90m━━━━━━━━━━━━━━━━━━━━━━━━━━━━━━━━━━━━━━━━\u001b[0m \u001b[32m139.2/139.2 kB\u001b[0m \u001b[31m15.0 MB/s\u001b[0m eta \u001b[36m0:00:00\u001b[0m\n",
            "\u001b[?25hDownloading dataclasses_json-0.6.7-py3-none-any.whl (28 kB)\n",
            "Downloading docker-7.1.0-py3-none-any.whl (147 kB)\n",
            "\u001b[2K   \u001b[90m━━━━━━━━━━━━━━━━━━━━━━━━━━━━━━━━━━━━━━━━\u001b[0m \u001b[32m147.8/147.8 kB\u001b[0m \u001b[31m15.5 MB/s\u001b[0m eta \u001b[36m0:00:00\u001b[0m\n",
            "\u001b[?25hDownloading fastapi-0.110.3-py3-none-any.whl (91 kB)\n",
            "\u001b[2K   \u001b[90m━━━━━━━━━━━━━━━━━━━━━━━━━━━━━━━━━━━━━━━━\u001b[0m \u001b[32m91.8/91.8 kB\u001b[0m \u001b[31m9.8 MB/s\u001b[0m eta \u001b[36m0:00:00\u001b[0m\n",
            "\u001b[?25hDownloading httpx-0.25.2-py3-none-any.whl (74 kB)\n",
            "\u001b[2K   \u001b[90m━━━━━━━━━━━━━━━━━━━━━━━━━━━━━━━━━━━━━━━━\u001b[0m \u001b[32m75.0/75.0 kB\u001b[0m \u001b[31m7.7 MB/s\u001b[0m eta \u001b[36m0:00:00\u001b[0m\n",
            "\u001b[?25hDownloading onnxruntime_gpu-1.19.2-cp310-cp310-manylinux_2_27_x86_64.manylinux_2_28_x86_64.whl (226.2 MB)\n",
            "\u001b[2K   \u001b[90m━━━━━━━━━━━━━━━━━━━━━━━━━━━━━━━━━━━━━━━━\u001b[0m \u001b[32m226.2/226.2 MB\u001b[0m \u001b[31m10.1 MB/s\u001b[0m eta \u001b[36m0:00:00\u001b[0m\n",
            "\u001b[?25hDownloading pillow-10.4.0-cp310-cp310-manylinux_2_28_x86_64.whl (4.5 MB)\n",
            "\u001b[2K   \u001b[90m━━━━━━━━━━━━━━━━━━━━━━━━━━━━━━━━━━━━━━━━\u001b[0m \u001b[32m4.5/4.5 MB\u001b[0m \u001b[31m107.2 MB/s\u001b[0m eta \u001b[36m0:00:00\u001b[0m\n",
            "\u001b[?25hDownloading prometheus_fastapi_instrumentator-6.0.0-py3-none-any.whl (18 kB)\n",
            "Downloading pydantic_settings-2.6.1-py3-none-any.whl (28 kB)\n",
            "Downloading pydot-2.0.0-py3-none-any.whl (22 kB)\n",
            "Downloading python_dotenv-1.0.1-py3-none-any.whl (19 kB)\n",
            "Downloading redis-5.0.8-py3-none-any.whl (255 kB)\n",
            "\u001b[2K   \u001b[90m━━━━━━━━━━━━━━━━━━━━━━━━━━━━━━━━━━━━━━━━\u001b[0m \u001b[32m255.6/255.6 kB\u001b[0m \u001b[31m23.8 MB/s\u001b[0m eta \u001b[36m0:00:00\u001b[0m\n",
            "\u001b[?25hDownloading rich-13.0.1-py3-none-any.whl (238 kB)\n",
            "\u001b[2K   \u001b[90m━━━━━━━━━━━━━━━━━━━━━━━━━━━━━━━━━━━━━━━━\u001b[0m \u001b[32m238.1/238.1 kB\u001b[0m \u001b[31m21.5 MB/s\u001b[0m eta \u001b[36m0:00:00\u001b[0m\n",
            "\u001b[?25hDownloading slack_sdk-3.33.4-py2.py3-none-any.whl (292 kB)\n",
            "\u001b[2K   \u001b[90m━━━━━━━━━━━━━━━━━━━━━━━━━━━━━━━━━━━━━━━━\u001b[0m \u001b[32m292.1/292.1 kB\u001b[0m \u001b[31m26.4 MB/s\u001b[0m eta \u001b[36m0:00:00\u001b[0m\n",
            "\u001b[?25hDownloading structlog-24.4.0-py3-none-any.whl (67 kB)\n",
            "\u001b[2K   \u001b[90m━━━━━━━━━━━━━━━━━━━━━━━━━━━━━━━━━━━━━━━━\u001b[0m \u001b[32m67.2/67.2 kB\u001b[0m \u001b[31m6.8 MB/s\u001b[0m eta \u001b[36m0:00:00\u001b[0m\n",
            "\u001b[?25hDownloading supervision-0.22.0-py3-none-any.whl (135 kB)\n",
            "\u001b[2K   \u001b[90m━━━━━━━━━━━━━━━━━━━━━━━━━━━━━━━━━━━━━━━━\u001b[0m \u001b[32m135.7/135.7 kB\u001b[0m \u001b[31m13.8 MB/s\u001b[0m eta \u001b[36m0:00:00\u001b[0m\n",
            "\u001b[?25hDownloading tldextract-5.1.3-py3-none-any.whl (104 kB)\n",
            "\u001b[2K   \u001b[90m━━━━━━━━━━━━━━━━━━━━━━━━━━━━━━━━━━━━━━━━\u001b[0m \u001b[32m104.9/104.9 kB\u001b[0m \u001b[31m10.4 MB/s\u001b[0m eta \u001b[36m0:00:00\u001b[0m\n",
            "\u001b[?25hDownloading twilio-9.3.7-py2.py3-none-any.whl (1.8 MB)\n",
            "\u001b[2K   \u001b[90m━━━━━━━━━━━━━━━━━━━━━━━━━━━━━━━━━━━━━━━━\u001b[0m \u001b[32m1.8/1.8 MB\u001b[0m \u001b[31m81.1 MB/s\u001b[0m eta \u001b[36m0:00:00\u001b[0m\n",
            "\u001b[?25hDownloading aiohttp_retry-2.8.3-py3-none-any.whl (9.8 kB)\n",
            "Downloading typer-0.12.5-py3-none-any.whl (47 kB)\n",
            "\u001b[2K   \u001b[90m━━━━━━━━━━━━━━━━━━━━━━━━━━━━━━━━━━━━━━━━\u001b[0m \u001b[32m47.3/47.3 kB\u001b[0m \u001b[31m4.9 MB/s\u001b[0m eta \u001b[36m0:00:00\u001b[0m\n",
            "\u001b[?25hDownloading ultralytics-8.3.40-py3-none-any.whl (898 kB)\n",
            "\u001b[2K   \u001b[90m━━━━━━━━━━━━━━━━━━━━━━━━━━━━━━━━━━━━━━━━\u001b[0m \u001b[32m898.5/898.5 kB\u001b[0m \u001b[31m53.0 MB/s\u001b[0m eta \u001b[36m0:00:00\u001b[0m\n",
            "\u001b[?25hDownloading zxing_cpp-2.2.0-cp310-cp310-manylinux_2_17_x86_64.manylinux2014_x86_64.whl (940 kB)\n",
            "\u001b[2K   \u001b[90m━━━━━━━━━━━━━━━━━━━━━━━━━━━━━━━━━━━━━━━━\u001b[0m \u001b[32m940.0/940.0 kB\u001b[0m \u001b[31m57.9 MB/s\u001b[0m eta \u001b[36m0:00:00\u001b[0m\n",
            "\u001b[?25hDownloading inference_gpu-0.29.1-py3-none-any.whl (880 kB)\n",
            "\u001b[2K   \u001b[90m━━━━━━━━━━━━━━━━━━━━━━━━━━━━━━━━━━━━━━━━\u001b[0m \u001b[32m880.5/880.5 kB\u001b[0m \u001b[31m58.9 MB/s\u001b[0m eta \u001b[36m0:00:00\u001b[0m\n",
            "\u001b[?25hDownloading aioice-0.9.0-py3-none-any.whl (24 kB)\n",
            "Downloading av-12.3.0-cp310-cp310-manylinux_2_17_x86_64.manylinux2014_x86_64.whl (33.5 MB)\n",
            "\u001b[2K   \u001b[90m━━━━━━━━━━━━━━━━━━━━━━━━━━━━━━━━━━━━━━━━\u001b[0m \u001b[32m33.5/33.5 MB\u001b[0m \u001b[31m67.8 MB/s\u001b[0m eta \u001b[36m0:00:00\u001b[0m\n",
            "\u001b[?25hDownloading botocore-1.35.74-py3-none-any.whl (13.2 MB)\n",
            "\u001b[2K   \u001b[90m━━━━━━━━━━━━━━━━━━━━━━━━━━━━━━━━━━━━━━━━\u001b[0m \u001b[32m13.2/13.2 MB\u001b[0m \u001b[31m114.7 MB/s\u001b[0m eta \u001b[36m0:00:00\u001b[0m\n",
            "\u001b[?25hDownloading commonmark-0.9.1-py2.py3-none-any.whl (51 kB)\n",
            "\u001b[2K   \u001b[90m━━━━━━━━━━━━━━━━━━━━━━━━━━━━━━━━━━━━━━━━\u001b[0m \u001b[32m51.1/51.1 kB\u001b[0m \u001b[31m5.0 MB/s\u001b[0m eta \u001b[36m0:00:00\u001b[0m\n",
            "\u001b[?25hDownloading jmespath-1.0.1-py3-none-any.whl (20 kB)\n",
            "Downloading marshmallow-3.23.1-py3-none-any.whl (49 kB)\n",
            "\u001b[2K   \u001b[90m━━━━━━━━━━━━━━━━━━━━━━━━━━━━━━━━━━━━━━━━\u001b[0m \u001b[32m49.5/49.5 kB\u001b[0m \u001b[31m4.7 MB/s\u001b[0m eta \u001b[36m0:00:00\u001b[0m\n",
            "\u001b[?25hDownloading pyee-12.1.1-py3-none-any.whl (15 kB)\n",
            "Downloading pylibsrtp-0.10.0-cp38-abi3-manylinux_2_17_x86_64.manylinux2014_x86_64.whl (2.1 MB)\n",
            "\u001b[2K   \u001b[90m━━━━━━━━━━━━━━━━━━━━━━━━━━━━━━━━━━━━━━━━\u001b[0m \u001b[32m2.1/2.1 MB\u001b[0m \u001b[31m88.5 MB/s\u001b[0m eta \u001b[36m0:00:00\u001b[0m\n",
            "\u001b[?25hDownloading requests_file-2.1.0-py2.py3-none-any.whl (4.2 kB)\n",
            "Downloading s3transfer-0.10.4-py3-none-any.whl (83 kB)\n",
            "\u001b[2K   \u001b[90m━━━━━━━━━━━━━━━━━━━━━━━━━━━━━━━━━━━━━━━━\u001b[0m \u001b[32m83.2/83.2 kB\u001b[0m \u001b[31m8.2 MB/s\u001b[0m eta \u001b[36m0:00:00\u001b[0m\n",
            "\u001b[?25hDownloading starlette-0.37.2-py3-none-any.whl (71 kB)\n",
            "\u001b[2K   \u001b[90m━━━━━━━━━━━━━━━━━━━━━━━━━━━━━━━━━━━━━━━━\u001b[0m \u001b[32m71.9/71.9 kB\u001b[0m \u001b[31m7.5 MB/s\u001b[0m eta \u001b[36m0:00:00\u001b[0m\n",
            "\u001b[?25hDownloading typing_inspect-0.9.0-py3-none-any.whl (8.8 kB)\n",
            "Downloading ultralytics_thop-2.0.12-py3-none-any.whl (26 kB)\n",
            "Downloading aiofiles-24.1.0-py3-none-any.whl (15 kB)\n",
            "Downloading aiosqlite-0.20.0-py3-none-any.whl (15 kB)\n",
            "Downloading coloredlogs-15.0.1-py2.py3-none-any.whl (46 kB)\n",
            "\u001b[2K   \u001b[90m━━━━━━━━━━━━━━━━━━━━━━━━━━━━━━━━━━━━━━━━\u001b[0m \u001b[32m46.0/46.0 kB\u001b[0m \u001b[31m4.9 MB/s\u001b[0m eta \u001b[36m0:00:00\u001b[0m\n",
            "\u001b[?25hDownloading ftfy-6.3.1-py3-none-any.whl (44 kB)\n",
            "\u001b[2K   \u001b[90m━━━━━━━━━━━━━━━━━━━━━━━━━━━━━━━━━━━━━━━━\u001b[0m \u001b[32m44.8/44.8 kB\u001b[0m \u001b[31m4.4 MB/s\u001b[0m eta \u001b[36m0:00:00\u001b[0m\n",
            "\u001b[?25hDownloading sortedcontainers-2.4.0-py2.py3-none-any.whl (29 kB)\n",
            "Downloading dnspython-2.7.0-py3-none-any.whl (313 kB)\n",
            "\u001b[2K   \u001b[90m━━━━━━━━━━━━━━━━━━━━━━━━━━━━━━━━━━━━━━━━\u001b[0m \u001b[32m313.6/313.6 kB\u001b[0m \u001b[31m30.4 MB/s\u001b[0m eta \u001b[36m0:00:00\u001b[0m\n",
            "\u001b[?25hDownloading humanfriendly-10.0-py2.py3-none-any.whl (86 kB)\n",
            "\u001b[2K   \u001b[90m━━━━━━━━━━━━━━━━━━━━━━━━━━━━━━━━━━━━━━━━\u001b[0m \u001b[32m86.8/86.8 kB\u001b[0m \u001b[31m9.3 MB/s\u001b[0m eta \u001b[36m0:00:00\u001b[0m\n",
            "\u001b[?25hDownloading ifaddr-0.2.0-py3-none-any.whl (12 kB)\n",
            "Downloading mypy_extensions-1.0.0-py3-none-any.whl (4.7 kB)\n",
            "Building wheels for collected packages: GPUtil, pybase64\n",
            "  Building wheel for GPUtil (setup.py) ... \u001b[?25l\u001b[?25hdone\n",
            "  Created wheel for GPUtil: filename=GPUtil-1.4.0-py3-none-any.whl size=7392 sha256=291adf80e281c796b7f1a95f6c089ba5ec5761bb0e1e9b0c90b5da67960c4bc3\n",
            "  Stored in directory: /root/.cache/pip/wheels/a9/8a/bd/81082387151853ab8b6b3ef33426e98f5cbfebc3c397a9d4d0\n",
            "  Building wheel for pybase64 (pyproject.toml) ... \u001b[?25l\u001b[?25hdone\n",
            "  Created wheel for pybase64: filename=pybase64-1.0.2-cp310-cp310-linux_x86_64.whl size=146168 sha256=b854e3f5fc31ebcf10a48f5e476de6995d107570087879f2330be2309e840d40\n",
            "  Stored in directory: /root/.cache/pip/wheels/e8/ab/d3/ad772f5bdac5c921effc923ba9260e78a9b0858904790dfa08\n",
            "Successfully built GPUtil pybase64\n",
            "Installing collected packages: sortedcontainers, ifaddr, GPUtil, commonmark, zxing-cpp, structlog, slack-sdk, rich, redis, python-dotenv, pyee, pydot, pybase64, pillow, mypy-extensions, marshmallow, jmespath, humanfriendly, ftfy, dnspython, dill, backoff, av, APScheduler, aiosqlite, aiofiles, typing-inspect, typer, starlette, requests-file, pylibsrtp, httpx, docker, coloredlogs, botocore, aioice, ultralytics-thop, tldextract, supervision, s3transfer, pydantic-settings, onnxruntime-gpu, fastapi, dataclasses-json, aiohttp, ultralytics, rf-clip, prometheus-fastapi-instrumentator, boto3, asyncua, anthropic, aiortc, aiohttp-retry, twilio, inference-gpu\n",
            "  Attempting uninstall: rich\n",
            "    Found existing installation: rich 13.9.4\n",
            "    Uninstalling rich-13.9.4:\n",
            "      Successfully uninstalled rich-13.9.4\n",
            "  Attempting uninstall: pydot\n",
            "    Found existing installation: pydot 3.0.2\n",
            "    Uninstalling pydot-3.0.2:\n",
            "      Successfully uninstalled pydot-3.0.2\n",
            "  Attempting uninstall: pillow\n",
            "    Found existing installation: pillow 11.0.0\n",
            "    Uninstalling pillow-11.0.0:\n",
            "      Successfully uninstalled pillow-11.0.0\n",
            "  Attempting uninstall: typer\n",
            "    Found existing installation: typer 0.13.0\n",
            "    Uninstalling typer-0.13.0:\n",
            "      Successfully uninstalled typer-0.13.0\n",
            "  Attempting uninstall: httpx\n",
            "    Found existing installation: httpx 0.27.2\n",
            "    Uninstalling httpx-0.27.2:\n",
            "      Successfully uninstalled httpx-0.27.2\n",
            "  Attempting uninstall: supervision\n",
            "    Found existing installation: supervision 0.25.0\n",
            "    Uninstalling supervision-0.25.0:\n",
            "      Successfully uninstalled supervision-0.25.0\n",
            "  Attempting uninstall: aiohttp\n",
            "    Found existing installation: aiohttp 3.11.2\n",
            "    Uninstalling aiohttp-3.11.2:\n",
            "      Successfully uninstalled aiohttp-3.11.2\n",
            "\u001b[31mERROR: pip's dependency resolver does not currently take into account all the packages that are installed. This behaviour is the source of the following dependency conflicts.\n",
            "pymc 5.18.2 requires rich>=13.7.1, but you have rich 13.0.1 which is incompatible.\u001b[0m\u001b[31m\n",
            "\u001b[0mSuccessfully installed APScheduler-3.11.0 GPUtil-1.4.0 aiofiles-24.1.0 aiohttp-3.10.11 aiohttp-retry-2.8.3 aioice-0.9.0 aiortc-1.9.0 aiosqlite-0.20.0 anthropic-0.34.2 asyncua-1.1.5 av-12.3.0 backoff-2.2.1 boto3-1.35.60 botocore-1.35.74 coloredlogs-15.0.1 commonmark-0.9.1 dataclasses-json-0.6.7 dill-0.3.8 dnspython-2.7.0 docker-7.1.0 fastapi-0.110.3 ftfy-6.3.1 httpx-0.25.2 humanfriendly-10.0 ifaddr-0.2.0 inference-gpu-0.29.1 jmespath-1.0.1 marshmallow-3.23.1 mypy-extensions-1.0.0 onnxruntime-gpu-1.19.2 pillow-10.4.0 prometheus-fastapi-instrumentator-6.0.0 pybase64-1.0.2 pydantic-settings-2.6.1 pydot-2.0.0 pyee-12.1.1 pylibsrtp-0.10.0 python-dotenv-1.0.1 redis-5.0.8 requests-file-2.1.0 rf-clip-1.1 rich-13.0.1 s3transfer-0.10.4 slack-sdk-3.33.4 sortedcontainers-2.4.0 starlette-0.37.2 structlog-24.4.0 supervision-0.22.0 tldextract-5.1.3 twilio-9.3.7 typer-0.12.5 typing-inspect-0.9.0 ultralytics-8.3.40 ultralytics-thop-2.0.12 zxing-cpp-2.2.0\n"
          ]
        },
        {
          "output_type": "display_data",
          "data": {
            "application/vnd.colab-display-data+json": {
              "pip_warning": {
                "packages": [
                  "PIL"
                ]
              },
              "id": "0b9a0eac7e60465eb2b48f6f2917ed2f"
            }
          },
          "metadata": {}
        }
      ]
    },
    {
      "cell_type": "code",
      "execution_count": 2,
      "metadata": {
        "id": "rTPQjfCjc94E",
        "colab": {
          "base_uri": "https://localhost:8080/",
          "height": 408
        },
        "outputId": "6d86523f-6c1f-489b-8e7b-4aa1dcc52e0d"
      },
      "outputs": [
        {
          "output_type": "error",
          "ename": "RuntimeError",
          "evalue": "Only a single TORCH_LIBRARY can be used to register the namespace prims; please put all of your definitions in a single TORCH_LIBRARY block.  If you were trying to specify implementations, consider using TORCH_LIBRARY_IMPL (which can be duplicated).  If you really intended to define operators for a single namespace in a distributed way, you can use TORCH_LIBRARY_FRAGMENT to explicitly indicate this.  Previous registration of TORCH_LIBRARY was registered at /dev/null:241; latest registration was registered at /dev/null:241",
          "traceback": [
            "\u001b[0;31m---------------------------------------------------------------------------\u001b[0m",
            "\u001b[0;31mRuntimeError\u001b[0m                              Traceback (most recent call last)",
            "\u001b[0;32m<ipython-input-2-12d8523e6123>\u001b[0m in \u001b[0;36m<cell line: 4>\u001b[0;34m()\u001b[0m\n\u001b[1;32m      2\u001b[0m \u001b[0;32mfrom\u001b[0m \u001b[0mtqdm\u001b[0m \u001b[0;32mimport\u001b[0m \u001b[0mtqdm\u001b[0m\u001b[0;34m\u001b[0m\u001b[0;34m\u001b[0m\u001b[0m\n\u001b[1;32m      3\u001b[0m \u001b[0;32mimport\u001b[0m \u001b[0msupervision\u001b[0m \u001b[0;32mas\u001b[0m \u001b[0msv\u001b[0m\u001b[0;34m\u001b[0m\u001b[0;34m\u001b[0m\u001b[0m\n\u001b[0;32m----> 4\u001b[0;31m \u001b[0;32mfrom\u001b[0m \u001b[0minference\u001b[0m\u001b[0;34m.\u001b[0m\u001b[0mmodels\u001b[0m\u001b[0;34m.\u001b[0m\u001b[0myolo_world\u001b[0m\u001b[0;34m.\u001b[0m\u001b[0myolo_world\u001b[0m \u001b[0;32mimport\u001b[0m \u001b[0mYOLOWorld\u001b[0m\u001b[0;34m\u001b[0m\u001b[0;34m\u001b[0m\u001b[0m\n\u001b[0m",
            "\u001b[0;32m/usr/local/lib/python3.10/dist-packages/inference/models/yolo_world/__init__.py\u001b[0m in \u001b[0;36m<module>\u001b[0;34m\u001b[0m\n\u001b[0;32m----> 1\u001b[0;31m \u001b[0;32mfrom\u001b[0m \u001b[0minference\u001b[0m\u001b[0;34m.\u001b[0m\u001b[0mmodels\u001b[0m\u001b[0;34m.\u001b[0m\u001b[0myolo_world\u001b[0m\u001b[0;34m.\u001b[0m\u001b[0myolo_world\u001b[0m \u001b[0;32mimport\u001b[0m \u001b[0mYOLOWorld\u001b[0m\u001b[0;34m\u001b[0m\u001b[0;34m\u001b[0m\u001b[0m\n\u001b[0m",
            "\u001b[0;32m/usr/local/lib/python3.10/dist-packages/inference/models/yolo_world/yolo_world.py\u001b[0m in \u001b[0;36m<module>\u001b[0;34m\u001b[0m\n\u001b[1;32m      3\u001b[0m \u001b[0;32mfrom\u001b[0m \u001b[0mtyping\u001b[0m \u001b[0;32mimport\u001b[0m \u001b[0mAny\u001b[0m\u001b[0;34m,\u001b[0m \u001b[0mList\u001b[0m\u001b[0;34m,\u001b[0m \u001b[0mOptional\u001b[0m\u001b[0;34m\u001b[0m\u001b[0;34m\u001b[0m\u001b[0m\n\u001b[1;32m      4\u001b[0m \u001b[0;34m\u001b[0m\u001b[0m\n\u001b[0;32m----> 5\u001b[0;31m \u001b[0;32mimport\u001b[0m \u001b[0mclip\u001b[0m\u001b[0;34m\u001b[0m\u001b[0;34m\u001b[0m\u001b[0m\n\u001b[0m\u001b[1;32m      6\u001b[0m \u001b[0;32mimport\u001b[0m \u001b[0mnumpy\u001b[0m \u001b[0;32mas\u001b[0m \u001b[0mnp\u001b[0m\u001b[0;34m\u001b[0m\u001b[0;34m\u001b[0m\u001b[0m\n\u001b[1;32m      7\u001b[0m \u001b[0;32mimport\u001b[0m \u001b[0mtorch\u001b[0m\u001b[0;34m\u001b[0m\u001b[0;34m\u001b[0m\u001b[0m\n",
            "\u001b[0;32m/usr/local/lib/python3.10/dist-packages/clip/__init__.py\u001b[0m in \u001b[0;36m<module>\u001b[0;34m\u001b[0m\n\u001b[0;32m----> 1\u001b[0;31m \u001b[0;32mfrom\u001b[0m \u001b[0;34m.\u001b[0m\u001b[0mclip\u001b[0m \u001b[0;32mimport\u001b[0m \u001b[0;34m*\u001b[0m\u001b[0;34m\u001b[0m\u001b[0;34m\u001b[0m\u001b[0m\n\u001b[0m",
            "\u001b[0;32m/usr/local/lib/python3.10/dist-packages/clip/clip.py\u001b[0m in \u001b[0;36m<module>\u001b[0;34m\u001b[0m\n\u001b[1;32m      6\u001b[0m \u001b[0;32mfrom\u001b[0m \u001b[0mtyping\u001b[0m \u001b[0;32mimport\u001b[0m \u001b[0mUnion\u001b[0m\u001b[0;34m,\u001b[0m \u001b[0mList\u001b[0m\u001b[0;34m\u001b[0m\u001b[0;34m\u001b[0m\u001b[0m\n\u001b[1;32m      7\u001b[0m \u001b[0;34m\u001b[0m\u001b[0m\n\u001b[0;32m----> 8\u001b[0;31m \u001b[0;32mimport\u001b[0m \u001b[0mtorch\u001b[0m\u001b[0;34m\u001b[0m\u001b[0;34m\u001b[0m\u001b[0m\n\u001b[0m\u001b[1;32m      9\u001b[0m \u001b[0;32mfrom\u001b[0m \u001b[0mPIL\u001b[0m \u001b[0;32mimport\u001b[0m \u001b[0mImage\u001b[0m\u001b[0;34m\u001b[0m\u001b[0;34m\u001b[0m\u001b[0m\n\u001b[1;32m     10\u001b[0m \u001b[0;32mfrom\u001b[0m \u001b[0mtorchvision\u001b[0m\u001b[0;34m.\u001b[0m\u001b[0mtransforms\u001b[0m \u001b[0;32mimport\u001b[0m \u001b[0mCompose\u001b[0m\u001b[0;34m,\u001b[0m \u001b[0mResize\u001b[0m\u001b[0;34m,\u001b[0m \u001b[0mCenterCrop\u001b[0m\u001b[0;34m,\u001b[0m \u001b[0mToTensor\u001b[0m\u001b[0;34m,\u001b[0m \u001b[0mNormalize\u001b[0m\u001b[0;34m\u001b[0m\u001b[0;34m\u001b[0m\u001b[0m\n",
            "\u001b[0;32m/usr/local/lib/python3.10/dist-packages/torch/__init__.py\u001b[0m in \u001b[0;36m<module>\u001b[0;34m\u001b[0m\n\u001b[1;32m   2484\u001b[0m \u001b[0;34m\u001b[0m\u001b[0m\n\u001b[1;32m   2485\u001b[0m \u001b[0;32mif\u001b[0m \u001b[0;32mnot\u001b[0m \u001b[0mTYPE_CHECKING\u001b[0m\u001b[0;34m:\u001b[0m\u001b[0;34m\u001b[0m\u001b[0;34m\u001b[0m\u001b[0m\n\u001b[0;32m-> 2486\u001b[0;31m     \u001b[0;32mfrom\u001b[0m \u001b[0mtorch\u001b[0m \u001b[0;32mimport\u001b[0m \u001b[0m_meta_registrations\u001b[0m\u001b[0;34m\u001b[0m\u001b[0;34m\u001b[0m\u001b[0m\n\u001b[0m\u001b[1;32m   2487\u001b[0m \u001b[0;34m\u001b[0m\u001b[0m\n\u001b[1;32m   2488\u001b[0m \u001b[0;31m# Enable CUDA Sanitizer\u001b[0m\u001b[0;34m\u001b[0m\u001b[0;34m\u001b[0m\u001b[0m\n",
            "\u001b[0;32m/usr/local/lib/python3.10/dist-packages/torch/_meta_registrations.py\u001b[0m in \u001b[0;36m<module>\u001b[0;34m\u001b[0m\n\u001b[1;32m      8\u001b[0m \u001b[0;32mimport\u001b[0m \u001b[0mtorch\u001b[0m\u001b[0;34m.\u001b[0m\u001b[0m_prims_common\u001b[0m \u001b[0;32mas\u001b[0m \u001b[0mutils\u001b[0m\u001b[0;34m\u001b[0m\u001b[0;34m\u001b[0m\u001b[0m\n\u001b[1;32m      9\u001b[0m \u001b[0;32mfrom\u001b[0m \u001b[0mtorch\u001b[0m \u001b[0;32mimport\u001b[0m \u001b[0mSymBool\u001b[0m\u001b[0;34m,\u001b[0m \u001b[0mSymFloat\u001b[0m\u001b[0;34m,\u001b[0m \u001b[0mTensor\u001b[0m\u001b[0;34m\u001b[0m\u001b[0;34m\u001b[0m\u001b[0m\n\u001b[0;32m---> 10\u001b[0;31m from torch._decomp import (\n\u001b[0m\u001b[1;32m     11\u001b[0m     \u001b[0m_add_op_to_registry\u001b[0m\u001b[0;34m,\u001b[0m\u001b[0;34m\u001b[0m\u001b[0;34m\u001b[0m\u001b[0m\n\u001b[1;32m     12\u001b[0m     \u001b[0m_convert_out_params\u001b[0m\u001b[0;34m,\u001b[0m\u001b[0;34m\u001b[0m\u001b[0;34m\u001b[0m\u001b[0m\n",
            "\u001b[0;32m/usr/local/lib/python3.10/dist-packages/torch/_decomp/__init__.py\u001b[0m in \u001b[0;36m<module>\u001b[0;34m\u001b[0m\n\u001b[1;32m    247\u001b[0m \u001b[0;34m\u001b[0m\u001b[0m\n\u001b[1;32m    248\u001b[0m \u001b[0;31m# populate the table\u001b[0m\u001b[0;34m\u001b[0m\u001b[0;34m\u001b[0m\u001b[0m\n\u001b[0;32m--> 249\u001b[0;31m \u001b[0;32mimport\u001b[0m \u001b[0mtorch\u001b[0m\u001b[0;34m.\u001b[0m\u001b[0m_decomp\u001b[0m\u001b[0;34m.\u001b[0m\u001b[0mdecompositions\u001b[0m\u001b[0;34m\u001b[0m\u001b[0;34m\u001b[0m\u001b[0m\n\u001b[0m\u001b[1;32m    250\u001b[0m \u001b[0;32mimport\u001b[0m \u001b[0mtorch\u001b[0m\u001b[0;34m.\u001b[0m\u001b[0m_refs\u001b[0m\u001b[0;34m\u001b[0m\u001b[0;34m\u001b[0m\u001b[0m\n\u001b[1;32m    251\u001b[0m \u001b[0;34m\u001b[0m\u001b[0m\n",
            "\u001b[0;32m/usr/local/lib/python3.10/dist-packages/torch/_decomp/decompositions.py\u001b[0m in \u001b[0;36m<module>\u001b[0;34m\u001b[0m\n\u001b[1;32m     13\u001b[0m \u001b[0;32mimport\u001b[0m \u001b[0mtorch\u001b[0m\u001b[0;34m\u001b[0m\u001b[0;34m\u001b[0m\u001b[0m\n\u001b[1;32m     14\u001b[0m \u001b[0;32mimport\u001b[0m \u001b[0mtorch\u001b[0m\u001b[0;34m.\u001b[0m\u001b[0m_meta_registrations\u001b[0m\u001b[0;34m\u001b[0m\u001b[0;34m\u001b[0m\u001b[0m\n\u001b[0;32m---> 15\u001b[0;31m \u001b[0;32mimport\u001b[0m \u001b[0mtorch\u001b[0m\u001b[0;34m.\u001b[0m\u001b[0m_prims\u001b[0m \u001b[0;32mas\u001b[0m \u001b[0mprims\u001b[0m\u001b[0;34m\u001b[0m\u001b[0;34m\u001b[0m\u001b[0m\n\u001b[0m\u001b[1;32m     16\u001b[0m \u001b[0;32mimport\u001b[0m \u001b[0mtorch\u001b[0m\u001b[0;34m.\u001b[0m\u001b[0m_prims_common\u001b[0m \u001b[0;32mas\u001b[0m \u001b[0mutils\u001b[0m\u001b[0;34m\u001b[0m\u001b[0;34m\u001b[0m\u001b[0m\n\u001b[1;32m     17\u001b[0m \u001b[0;32mimport\u001b[0m \u001b[0mtorch\u001b[0m\u001b[0;34m.\u001b[0m\u001b[0mnn\u001b[0m\u001b[0;34m.\u001b[0m\u001b[0mfunctional\u001b[0m \u001b[0;32mas\u001b[0m \u001b[0mF\u001b[0m\u001b[0;34m\u001b[0m\u001b[0;34m\u001b[0m\u001b[0m\n",
            "\u001b[0;32m/usr/local/lib/python3.10/dist-packages/torch/_prims/__init__.py\u001b[0m in \u001b[0;36m<module>\u001b[0;34m\u001b[0m\n\u001b[1;32m     34\u001b[0m \u001b[0;34m\u001b[0m\u001b[0m\n\u001b[1;32m     35\u001b[0m \u001b[0;34m\u001b[0m\u001b[0m\n\u001b[0;32m---> 36\u001b[0;31m \u001b[0mprim\u001b[0m \u001b[0;34m=\u001b[0m \u001b[0mtorch\u001b[0m\u001b[0;34m.\u001b[0m\u001b[0mlibrary\u001b[0m\u001b[0;34m.\u001b[0m\u001b[0mLibrary\u001b[0m\u001b[0;34m(\u001b[0m\u001b[0;34m\"prims\"\u001b[0m\u001b[0;34m,\u001b[0m \u001b[0;34m\"DEF\"\u001b[0m\u001b[0;34m)\u001b[0m\u001b[0;34m\u001b[0m\u001b[0;34m\u001b[0m\u001b[0m\n\u001b[0m\u001b[1;32m     37\u001b[0m \u001b[0mprim_impl\u001b[0m \u001b[0;34m=\u001b[0m \u001b[0mtorch\u001b[0m\u001b[0;34m.\u001b[0m\u001b[0mlibrary\u001b[0m\u001b[0;34m.\u001b[0m\u001b[0mLibrary\u001b[0m\u001b[0;34m(\u001b[0m\u001b[0;34m\"prims\"\u001b[0m\u001b[0;34m,\u001b[0m \u001b[0;34m\"IMPL\"\u001b[0m\u001b[0;34m,\u001b[0m \u001b[0;34m\"CompositeExplicitAutograd\"\u001b[0m\u001b[0;34m)\u001b[0m\u001b[0;34m\u001b[0m\u001b[0;34m\u001b[0m\u001b[0m\n\u001b[1;32m     38\u001b[0m \u001b[0mprim_backend_select_impl\u001b[0m \u001b[0;34m=\u001b[0m \u001b[0mtorch\u001b[0m\u001b[0;34m.\u001b[0m\u001b[0mlibrary\u001b[0m\u001b[0;34m.\u001b[0m\u001b[0mLibrary\u001b[0m\u001b[0;34m(\u001b[0m\u001b[0;34m\"prims\"\u001b[0m\u001b[0;34m,\u001b[0m \u001b[0;34m\"IMPL\"\u001b[0m\u001b[0;34m,\u001b[0m \u001b[0;34m\"BackendSelect\"\u001b[0m\u001b[0;34m)\u001b[0m\u001b[0;34m\u001b[0m\u001b[0;34m\u001b[0m\u001b[0m\n",
            "\u001b[0;32m/usr/local/lib/python3.10/dist-packages/torch/library.py\u001b[0m in \u001b[0;36m__init__\u001b[0;34m(self, ns, kind, dispatch_key)\u001b[0m\n\u001b[1;32m     85\u001b[0m         \u001b[0mframe\u001b[0m \u001b[0;34m=\u001b[0m \u001b[0mtraceback\u001b[0m\u001b[0;34m.\u001b[0m\u001b[0mextract_stack\u001b[0m\u001b[0;34m(\u001b[0m\u001b[0mlimit\u001b[0m\u001b[0;34m=\u001b[0m\u001b[0;36m3\u001b[0m\u001b[0;34m)\u001b[0m\u001b[0;34m[\u001b[0m\u001b[0;36m0\u001b[0m\u001b[0;34m]\u001b[0m\u001b[0;34m\u001b[0m\u001b[0;34m\u001b[0m\u001b[0m\n\u001b[1;32m     86\u001b[0m         \u001b[0mfilename\u001b[0m\u001b[0;34m,\u001b[0m \u001b[0mlineno\u001b[0m \u001b[0;34m=\u001b[0m \u001b[0mframe\u001b[0m\u001b[0;34m.\u001b[0m\u001b[0mfilename\u001b[0m\u001b[0;34m,\u001b[0m \u001b[0mframe\u001b[0m\u001b[0;34m.\u001b[0m\u001b[0mlineno\u001b[0m\u001b[0;34m\u001b[0m\u001b[0;34m\u001b[0m\u001b[0m\n\u001b[0;32m---> 87\u001b[0;31m         self.m: Optional[Any] = torch._C._dispatch_library(\n\u001b[0m\u001b[1;32m     88\u001b[0m             \u001b[0mkind\u001b[0m\u001b[0;34m,\u001b[0m \u001b[0mns\u001b[0m\u001b[0;34m,\u001b[0m \u001b[0mdispatch_key\u001b[0m\u001b[0;34m,\u001b[0m \u001b[0mfilename\u001b[0m\u001b[0;34m,\u001b[0m \u001b[0mlineno\u001b[0m\u001b[0;34m\u001b[0m\u001b[0;34m\u001b[0m\u001b[0m\n\u001b[1;32m     89\u001b[0m         )\n",
            "\u001b[0;31mRuntimeError\u001b[0m: Only a single TORCH_LIBRARY can be used to register the namespace prims; please put all of your definitions in a single TORCH_LIBRARY block.  If you were trying to specify implementations, consider using TORCH_LIBRARY_IMPL (which can be duplicated).  If you really intended to define operators for a single namespace in a distributed way, you can use TORCH_LIBRARY_FRAGMENT to explicitly indicate this.  Previous registration of TORCH_LIBRARY was registered at /dev/null:241; latest registration was registered at /dev/null:241"
          ]
        }
      ],
      "source": [
        "import cv2\n",
        "from tqdm import tqdm\n",
        "import supervision as sv\n",
        "from inference.models.yolo_world.yolo_world import YOLOWorld"
      ]
    },
    {
      "cell_type": "code",
      "source": [
        "model = YOLOWorld(model_id=\"yolo_world/l\")"
      ],
      "metadata": {
        "id": "cg6GeiVOdFjk",
        "colab": {
          "base_uri": "https://localhost:8080/"
        },
        "outputId": "fb8054a6-d29e-4123-c3b5-747ce16d75f2"
      },
      "execution_count": null,
      "outputs": [
        {
          "output_type": "stream",
          "name": "stdout",
          "text": [
            "Creating inference sessions\n"
          ]
        },
        {
          "output_type": "stream",
          "name": "stderr",
          "text": [
            "UserWarning: Specified provider 'OpenVINOExecutionProvider' is not in available provider names.Available providers: 'TensorrtExecutionProvider, CUDAExecutionProvider, CPUExecutionProvider'\n",
            "UserWarning: Specified provider 'CoreMLExecutionProvider' is not in available provider names.Available providers: 'TensorrtExecutionProvider, CUDAExecutionProvider, CPUExecutionProvider'\n"
          ]
        },
        {
          "output_type": "stream",
          "name": "stdout",
          "text": [
            "CLIP model loaded in 5.61 seconds\n"
          ]
        }
      ]
    },
    {
      "cell_type": "code",
      "source": [
        "classes = [\"eye\", \"lips\", \"head\" , \"person\"]\n",
        "model.set_classes(classes)"
      ],
      "metadata": {
        "id": "KGkXI-B6ijG8"
      },
      "execution_count": null,
      "outputs": []
    },
    {
      "cell_type": "code",
      "source": [
        "results = model.infer(\"https://media.roboflow.com/inference/people-walking.jpg\")"
      ],
      "metadata": {
        "id": "oi3brL4hiXPN"
      },
      "execution_count": null,
      "outputs": []
    },
    {
      "cell_type": "code",
      "source": [
        "results"
      ],
      "metadata": {
        "id": "jlPQKtIwid4x",
        "colab": {
          "base_uri": "https://localhost:8080/"
        },
        "outputId": "0af45e96-0f77-4b78-95f2-cab5c383f4b0"
      },
      "execution_count": null,
      "outputs": [
        {
          "output_type": "execute_result",
          "data": {
            "text/plain": [
              "ObjectDetectionInferenceResponse(visualization=None, inference_id=None, frame_id=None, time=3.380615708999983, image=InferenceResponseImage(width=1920, height=1080), predictions=[ObjectDetectionPrediction(x=1466.859130859375, y=796.1629028320312, width=112.7490234375, height=184.5640869140625, confidence=0.9058711528778076, class_name='person', class_confidence=None, class_id=3, tracker_id=None, detection_id='faa5b7d4-cd99-4872-b397-400935bd3b2a', parent_id=None), ObjectDetectionPrediction(x=87.00091552734375, y=892.4357299804688, width=107.6764907836914, height=191.531982421875, confidence=0.9040673971176147, class_name='person', class_confidence=None, class_id=3, tracker_id=None, detection_id='55201e0c-ebfb-4181-8b60-593535266724', parent_id=None), ObjectDetectionPrediction(x=704.931640625, y=751.3302612304688, width=77.4267578125, height=201.139892578125, confidence=0.899662435054779, class_name='person', class_confidence=None, class_id=3, tracker_id=None, detection_id='a6e066ff-d606-40f1-88e8-3ca4b3cb599a', parent_id=None), ObjectDetectionPrediction(x=1192.396728515625, y=1014.585205078125, width=102.96484375, height=130.46044921875, confidence=0.8880159258842468, class_name='person', class_confidence=None, class_id=3, tracker_id=None, detection_id='77ae8bcc-ddc8-49cc-be8e-3727e3e9994c', parent_id=None), ObjectDetectionPrediction(x=296.08111572265625, y=524.794921875, width=72.54055786132812, height=169.50164794921875, confidence=0.8807411789894104, class_name='person', class_confidence=None, class_id=3, tracker_id=None, detection_id='b96e11bb-1432-4f28-8efd-e0fe395f53ab', parent_id=None), ObjectDetectionPrediction(x=1480.8468017578125, y=402.41339111328125, width=70.021240234375, height=162.85397338867188, confidence=0.8660480380058289, class_name='person', class_confidence=None, class_id=3, tracker_id=None, detection_id='b5fa363e-ba75-4d50-92f0-29f26ed0c442', parent_id=None), ObjectDetectionPrediction(x=736.6693725585938, y=314.19769287109375, width=60.3507080078125, height=148.81723022460938, confidence=0.8601964116096497, class_name='person', class_confidence=None, class_id=3, tracker_id=None, detection_id='8f6888ab-7c1f-4570-a781-122578533397', parent_id=None), ObjectDetectionPrediction(x=786.6397705078125, y=536.8099365234375, width=71.187744140625, height=168.96771240234375, confidence=0.8469908237457275, class_name='person', class_confidence=None, class_id=3, tracker_id=None, detection_id='227bbc66-29c2-4b87-970f-8431d169b8df', parent_id=None), ObjectDetectionPrediction(x=1502.554931640625, y=558.186279296875, width=79.7083740234375, height=171.79339599609375, confidence=0.8308883309364319, class_name='person', class_confidence=None, class_id=3, tracker_id=None, detection_id='e4e00525-d04b-4ddf-ad49-4a6fdd9e9fa4', parent_id=None), ObjectDetectionPrediction(x=872.6416015625, y=132.87306213378906, width=41.072021484375, height=125.00393676757812, confidence=0.820016086101532, class_name='person', class_confidence=None, class_id=3, tracker_id=None, detection_id='f1d18b8d-b409-454e-abb3-c077ad839b5f', parent_id=None), ObjectDetectionPrediction(x=1174.2821044921875, y=581.8707885742188, width=70.255126953125, height=148.71633911132812, confidence=0.8173530697822571, class_name='person', class_confidence=None, class_id=3, tracker_id=None, detection_id='b0cd7d7c-8b60-4313-95d7-8cc9f7987c6d', parent_id=None), ObjectDetectionPrediction(x=1229.115478515625, y=197.59677124023438, width=49.9434814453125, height=136.60462951660156, confidence=0.815734326839447, class_name='person', class_confidence=None, class_id=3, tracker_id=None, detection_id='2a5e9bcb-5a65-4b7f-a855-8abe6cfd5105', parent_id=None), ObjectDetectionPrediction(x=598.2962036132812, y=342.6706237792969, width=58.4595947265625, height=136.49774169921875, confidence=0.8137644529342651, class_name='person', class_confidence=None, class_id=3, tracker_id=None, detection_id='3549b795-b46b-448a-b3fc-45380ef0d74b', parent_id=None), ObjectDetectionPrediction(x=1112.294677734375, y=96.24332427978516, width=42.33203125, height=101.11885070800781, confidence=0.8104544281959534, class_name='person', class_confidence=None, class_id=3, tracker_id=None, detection_id='fcdd5733-769d-43c5-b42e-36c0867f717e', parent_id=None), ObjectDetectionPrediction(x=956.6846923828125, y=239.1966552734375, width=58.2425537109375, height=131.387939453125, confidence=0.7964922785758972, class_name='person', class_confidence=None, class_id=3, tracker_id=None, detection_id='aa6cbec8-399b-4fbd-b518-c61c967db6bf', parent_id=None), ObjectDetectionPrediction(x=594.4961547851562, y=247.79025268554688, width=50.3602294921875, height=88.70343017578125, confidence=0.7909161448478699, class_name='person', class_confidence=None, class_id=3, tracker_id=None, detection_id='bbdbe06c-421e-49d4-a072-3238e87c3372', parent_id=None), ObjectDetectionPrediction(x=911.91064453125, y=151.63534545898438, width=40.66552734375, height=119.39275360107422, confidence=0.7835957407951355, class_name='person', class_confidence=None, class_id=3, tracker_id=None, detection_id='c1acdfc2-7db3-4165-98ab-1edc17d9e668', parent_id=None), ObjectDetectionPrediction(x=1186.7091064453125, y=214.26589965820312, width=43.052001953125, height=127.15435791015625, confidence=0.7833064198493958, class_name='person', class_confidence=None, class_id=3, tracker_id=None, detection_id='bce1f977-86f5-456c-b376-8ea053469cbb', parent_id=None), ObjectDetectionPrediction(x=463.8016357421875, y=568.6290283203125, width=99.22000122070312, height=153.62347412109375, confidence=0.7832282781600952, class_name='person', class_confidence=None, class_id=3, tracker_id=None, detection_id='2c419b32-8ff8-4fcb-b55e-fd16b58430e4', parent_id=None), ObjectDetectionPrediction(x=233.27325439453125, y=102.21539306640625, width=64.9266357421875, height=117.10636138916016, confidence=0.7776277661323547, class_name='person', class_confidence=None, class_id=3, tracker_id=None, detection_id='2d0298da-6def-4b1c-8e94-f37d7fc2e7a0', parent_id=None), ObjectDetectionPrediction(x=1822.496337890625, y=209.27780151367188, width=57.3984375, height=128.78416442871094, confidence=0.7707849144935608, class_name='person', class_confidence=None, class_id=3, tracker_id=None, detection_id='a1cb76cc-1843-4256-9feb-5013ddf5545f', parent_id=None), ObjectDetectionPrediction(x=1699.28466796875, y=73.56433868408203, width=50.817626953125, height=122.93205261230469, confidence=0.7653223276138306, class_name='person', class_confidence=None, class_id=3, tracker_id=None, detection_id='25051847-e02d-4a6f-aab7-6319818eaad6', parent_id=None), ObjectDetectionPrediction(x=381.70263671875, y=84.55135345458984, width=43.0938720703125, height=111.25419616699219, confidence=0.7501820921897888, class_name='person', class_confidence=None, class_id=3, tracker_id=None, detection_id='8b00edca-d215-4318-a65b-423cffce629e', parent_id=None), ObjectDetectionPrediction(x=823.6951904296875, y=142.2610321044922, width=48.337890625, height=125.8261489868164, confidence=0.7394512891769409, class_name='person', class_confidence=None, class_id=3, tracker_id=None, detection_id='da9c45ff-12b1-487a-851a-0ae7e3d49e9d', parent_id=None), ObjectDetectionPrediction(x=1836.85986328125, y=26.545085906982422, width=31.2685546875, height=53.090171813964844, confidence=0.7330220937728882, class_name='person', class_confidence=None, class_id=3, tracker_id=None, detection_id='cfbad96a-1535-492a-8d7c-7a2720c90986', parent_id=None), ObjectDetectionPrediction(x=373.78424072265625, y=569.8394165039062, width=58.1468505859375, height=147.28125, confidence=0.7195640206336975, class_name='person', class_confidence=None, class_id=3, tracker_id=None, detection_id='9401027a-753e-4764-ba09-44ba70e8c039', parent_id=None), ObjectDetectionPrediction(x=120.4853286743164, y=191.806640625, width=50.57633972167969, height=117.75433349609375, confidence=0.7148129343986511, class_name='person', class_confidence=None, class_id=3, tracker_id=None, detection_id='34e7f70f-ca72-46b3-8e61-0e486c7b7b7c', parent_id=None), ObjectDetectionPrediction(x=170.48599243164062, y=25.379493713378906, width=42.88682556152344, height=50.75898742675781, confidence=0.714446485042572, class_name='person', class_confidence=None, class_id=3, tracker_id=None, detection_id='60140eda-2afa-438f-947b-0e46a7dd7cde', parent_id=None), ObjectDetectionPrediction(x=1599.4010009765625, y=71.42369842529297, width=42.188232421875, height=102.93451690673828, confidence=0.7091252207756042, class_name='person', class_confidence=None, class_id=3, tracker_id=None, detection_id='1ed75fc2-97d2-414d-8de4-4752646f8d72', parent_id=None), ObjectDetectionPrediction(x=1633.183349609375, y=72.30642700195312, width=41.5916748046875, height=108.65290832519531, confidence=0.6950696706771851, class_name='person', class_confidence=None, class_id=3, tracker_id=None, detection_id='ba1d96e1-661b-405e-aba5-655964f1a2f7', parent_id=None), ObjectDetectionPrediction(x=922.159423828125, y=39.81837463378906, width=34.125, height=79.63674926757812, confidence=0.6732361316680908, class_name='person', class_confidence=None, class_id=3, tracker_id=None, detection_id='a56bd018-965f-47ad-af24-bf69e7bf826b', parent_id=None), ObjectDetectionPrediction(x=746.53662109375, y=59.40772247314453, width=43.99603271484375, height=98.41496276855469, confidence=0.6580154299736023, class_name='person', class_confidence=None, class_id=3, tracker_id=None, detection_id='fda8c097-dc1e-4390-9b5d-b1e36cd33de5', parent_id=None), ObjectDetectionPrediction(x=1326.4716796875, y=57.830543518066406, width=35.94970703125, height=98.62504577636719, confidence=0.6554906964302063, class_name='person', class_confidence=None, class_id=3, tracker_id=None, detection_id='48a3d036-4c99-43f6-b94f-3f11c4028a3f', parent_id=None), ObjectDetectionPrediction(x=1405.5333251953125, y=119.03691101074219, width=35.106201171875, height=130.16986083984375, confidence=0.6400195360183716, class_name='person', class_confidence=None, class_id=3, tracker_id=None, detection_id='2d0de01c-d4f9-4453-8944-e2da15119df3', parent_id=None), ObjectDetectionPrediction(x=1716.04248046875, y=216.7713165283203, width=64.0078125, height=129.85763549804688, confidence=0.5940651893615723, class_name='person', class_confidence=None, class_id=3, tracker_id=None, detection_id='819e0eb2-cfeb-43f6-b424-f37b3c2b48b1', parent_id=None), ObjectDetectionPrediction(x=1010.491943359375, y=167.92291259765625, width=54.71343994140625, height=130.52224731445312, confidence=0.5926834344863892, class_name='person', class_confidence=None, class_id=3, tracker_id=None, detection_id='e8751e15-1f93-4be4-a687-75f959f53345', parent_id=None), ObjectDetectionPrediction(x=1909.220458984375, y=143.75588989257812, width=21.5592041015625, height=99.81394958496094, confidence=0.5804279446601868, class_name='person', class_confidence=None, class_id=3, tracker_id=None, detection_id='1ea21a58-a3a3-41d1-bfc5-66ce117a2227', parent_id=None), ObjectDetectionPrediction(x=1420.262939453125, y=45.08224868774414, width=40.3919677734375, height=90.16449737548828, confidence=0.5672180652618408, class_name='person', class_confidence=None, class_id=3, tracker_id=None, detection_id='97d0c637-ee0b-4bd5-857f-f4184eac227c', parent_id=None), ObjectDetectionPrediction(x=1751.41357421875, y=135.71893310546875, width=59.5634765625, height=112.59026336669922, confidence=0.5542193055152893, class_name='person', class_confidence=None, class_id=3, tracker_id=None, detection_id='dfe8e846-722d-4530-abd8-90c6fd8d7f9b', parent_id=None), ObjectDetectionPrediction(x=363.80914306640625, y=19.016124725341797, width=41.04986572265625, height=38.032249450683594, confidence=0.4852173328399658, class_name='person', class_confidence=None, class_id=3, tracker_id=None, detection_id='75e2c8ea-6f78-49f3-90a2-af33fda9ad9a', parent_id=None), ObjectDetectionPrediction(x=1293.92333984375, y=83.38446807861328, width=43.548828125, height=77.39584350585938, confidence=0.4624837636947632, class_name='person', class_confidence=None, class_id=3, tracker_id=None, detection_id='9b835aba-a975-4b74-8797-c43ed41d2699', parent_id=None)])"
            ]
          },
          "metadata": {},
          "execution_count": 5
        }
      ]
    },
    {
      "cell_type": "code",
      "source": [
        "from IPython.display import display, Javascript, Image, clear_output\n",
        "from google.colab.output import eval_js\n",
        "from base64 import b64decode\n",
        "import cv2\n",
        "import time\n",
        "\n",
        "# Function to take a photo using a webcam in Colab\n",
        "def take_photo(filename='photo.jpg', quality=0.5):\n",
        "    js = Javascript('''\n",
        "    async function takePhoto(quality) {\n",
        "      const video = document.createElement('video');\n",
        "      video.style.display = 'block';\n",
        "      const stream = await navigator.mediaDevices.getUserMedia({video: true});\n",
        "      video.srcObject = stream;\n",
        "      await video.play();\n",
        "\n",
        "      // Wait for a short time to allow the camera to adjust\n",
        "      await new Promise(resolve => setTimeout(resolve, 3000));\n",
        "\n",
        "      const canvas = document.createElement('canvas');\n",
        "      canvas.width = video.videoWidth;\n",
        "      canvas.height = video.videoHeight;\n",
        "      canvas.getContext('2d').drawImage(video, 0, 0);\n",
        "      stream.getVideoTracks()[0].stop();\n",
        "      return canvas.toDataURL('image/jpeg', quality);\n",
        "    }\n",
        "    ''')\n",
        "    display(js)\n",
        "    data = eval_js(f'takePhoto({quality})')\n",
        "    binary = b64decode(data.split(',')[1])\n",
        "    with open(filename, 'wb') as f:\n",
        "        f.write(binary)\n",
        "    return filename\n"
      ],
      "metadata": {
        "id": "_RL-uqQnpSkT"
      },
      "execution_count": null,
      "outputs": []
    },
    {
      "cell_type": "code",
      "source": [
        "\n",
        "# Initialize annotators\n",
        "BOUNDING_BOX_ANNOTATOR = sv.BoundingBoxAnnotator(thickness=2)\n",
        "LABEL_ANNOTATOR = sv.LabelAnnotator(text_thickness=1, text_scale=0.5, text_color=sv.Color.BLACK)\n",
        "\n",
        "try:\n",
        "    while True:\n",
        "        # Capture photo\n",
        "        filename = take_photo()\n",
        "        print(f'Saved to {filename}')\n",
        "\n",
        "        # Load image for inference and annotation\n",
        "        frame = cv2.imread(filename)\n",
        "        results = model.infer(frame, confidence=0.002)\n",
        "        detections = sv.Detections.from_inference(results).with_nms(threshold=0.8)\n",
        "\n",
        "        # Annotate image\n",
        "        annotated_frame = BOUNDING_BOX_ANNOTATOR.annotate(frame, detections)\n",
        "        annotated_frame = LABEL_ANNOTATOR.annotate(annotated_frame, detections)\n",
        "\n",
        "        # Save and display the annotated image\n",
        "        annotated_filename = 'annotated_' + filename\n",
        "        cv2.imwrite(annotated_filename, annotated_frame)\n",
        "\n",
        "        # Clear previous output and display new image\n",
        "        clear_output(wait=True)\n",
        "        display(Image(annotated_filename))\n",
        "\n",
        "        # Wait for a short period before taking the next photo\n",
        "        #time.sleep(1)  # Adjust the sleep time as needed\n",
        "\n",
        "except KeyboardInterrupt:\n",
        "    print(\"Stopped the photo capture.\")\n",
        "except Exception as err:\n",
        "    print(str(err))  # Error handling for webcam access"
      ],
      "metadata": {
        "id": "jezONJW3qY1U",
        "colab": {
          "base_uri": "https://localhost:8080/",
          "height": 489
        },
        "outputId": "8c724a26-0f2c-45b7-e517-a638cb8e3cef"
      },
      "execution_count": null,
      "outputs": [
        {
          "output_type": "display_data",
          "data": {
            "image/jpeg": "[encoded data removed]",
            "text/plain": [
              "<IPython.core.display.Image object>"
            ]
          },
          "metadata": {}
        },
        {
          "output_type": "display_data",
          "data": {
            "text/plain": [
              "<IPython.core.display.Javascript object>"
            ],
            "application/javascript": [
              "\n",
              "    async function takePhoto(quality) {\n",
              "      const video = document.createElement('video');\n",
              "      video.style.display = 'block';\n",
              "      const stream = await navigator.mediaDevices.getUserMedia({video: true});\n",
              "      video.srcObject = stream;\n",
              "      await video.play();\n",
              "\n",
              "      // Wait for a short time to allow the camera to adjust\n",
              "      await new Promise(resolve => setTimeout(resolve, 3000));\n",
              "\n",
              "      const canvas = document.createElement('canvas');\n",
              "      canvas.width = video.videoWidth;\n",
              "      canvas.height = video.videoHeight;\n",
              "      canvas.getContext('2d').drawImage(video, 0, 0);\n",
              "      stream.getVideoTracks()[0].stop();\n",
              "      return canvas.toDataURL('image/jpeg', quality);\n",
              "    }\n",
              "    "
            ]
          },
          "metadata": {}
        },
        {
          "output_type": "stream",
          "name": "stdout",
          "text": [
            "Stopped the photo capture.\n"
          ]
        }
      ]
    }
  ]
}