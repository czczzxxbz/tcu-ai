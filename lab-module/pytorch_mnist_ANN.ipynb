{
  "nbformat": 4,
  "nbformat_minor": 0,
  "metadata": {
    "colab": {
      "provenance": [],
      "gpuType": "T4"
    },
    "kernelspec": {
      "name": "python3",
      "display_name": "Python 3"
    },
    "accelerator": "GPU"
  },
  "cells": [
    {
      "cell_type": "code",
      "source": [
        "from google.colab import drive\n",
        "drive.mount('/content/drive')"
      ],
      "metadata": {
        "colab": {
          "base_uri": "https://localhost:8080/"
        },
        "id": "6k4ke5C6Jyku",
        "outputId": "a4fb616f-5b1a-49ec-fd9c-3d596ce0b4c2"
      },
      "execution_count": null,
      "outputs": [
        {
          "output_type": "stream",
          "name": "stdout",
          "text": [
            "Mounted at /content/drive\n"
          ]
        }
      ]
    },
    {
      "cell_type": "code",
      "metadata": {
        "id": "CMdX--3Mp-Ky"
      },
      "source": [
        "import torch\n",
        "import torchvision\n",
        "import torchvision.transforms as transforms\n",
        "import torch.nn as nn\n",
        "import torch.optim as optim\n",
        "import matplotlib.pyplot as plt\n",
        "import numpy as np"
      ],
      "execution_count": null,
      "outputs": []
    },
    {
      "cell_type": "markdown",
      "source": [
        "**Import Packages for Pytorch**\n",
        "\n"
      ],
      "metadata": {
        "id": "0fpVGDDyFSVb"
      }
    },
    {
      "cell_type": "markdown",
      "source": [
        "**Download mnist Data**\n"
      ],
      "metadata": {
        "id": "m4-JvvQBFiVz"
      }
    },
    {
      "cell_type": "code",
      "metadata": {
        "id": "f3ctr458sGQE",
        "colab": {
          "base_uri": "https://localhost:8080/"
        },
        "outputId": "1218ec65-394b-49ba-d338-13249b36f9b4"
      },
      "source": [
        "# Define transformations to apply to the data\n",
        "transform = transforms.Compose([\n",
        "    transforms.ToTensor(),  # Convert images to tensors\n",
        "    transforms.Normalize((0.5,), (0.5,))  # Normalize the pixel values to be in the range [-1, 1]\n",
        "])\n",
        "\n",
        "# Download and load the training set\n",
        "trainset = torchvision.datasets.MNIST(root='./data', train=True, download=True, transform=transform)\n",
        "\n",
        "# Download and load the test set\n",
        "testset = torchvision.datasets.MNIST(root='./data', train=False, download=True, transform=transform)\n",
        "\n",
        "# Create data loaders\n",
        "trainloader = torch.utils.data.DataLoader(trainset, batch_size=64, shuffle=False)\n",
        "testloader = torch.utils.data.DataLoader(testset, batch_size=64, shuffle=False)\n"
      ],
      "execution_count": null,
      "outputs": [
        {
          "output_type": "stream",
          "name": "stdout",
          "text": [
            "Downloading http://yann.lecun.com/exdb/mnist/train-images-idx3-ubyte.gz\n",
            "Failed to download (trying next):\n",
            "HTTP Error 403: Forbidden\n",
            "\n",
            "Downloading https://ossci-datasets.s3.amazonaws.com/mnist/train-images-idx3-ubyte.gz\n",
            "Downloading https://ossci-datasets.s3.amazonaws.com/mnist/train-images-idx3-ubyte.gz to ./data/MNIST/raw/train-images-idx3-ubyte.gz\n"
          ]
        },
        {
          "output_type": "stream",
          "name": "stderr",
          "text": [
            "100%|██████████| 9912422/9912422 [00:00<00:00, 16137089.85it/s]\n"
          ]
        },
        {
          "output_type": "stream",
          "name": "stdout",
          "text": [
            "Extracting ./data/MNIST/raw/train-images-idx3-ubyte.gz to ./data/MNIST/raw\n",
            "\n",
            "Downloading http://yann.lecun.com/exdb/mnist/train-labels-idx1-ubyte.gz\n",
            "Failed to download (trying next):\n",
            "HTTP Error 403: Forbidden\n",
            "\n",
            "Downloading https://ossci-datasets.s3.amazonaws.com/mnist/train-labels-idx1-ubyte.gz\n",
            "Downloading https://ossci-datasets.s3.amazonaws.com/mnist/train-labels-idx1-ubyte.gz to ./data/MNIST/raw/train-labels-idx1-ubyte.gz\n"
          ]
        },
        {
          "output_type": "stream",
          "name": "stderr",
          "text": [
            "100%|██████████| 28881/28881 [00:00<00:00, 482423.97it/s]\n"
          ]
        },
        {
          "output_type": "stream",
          "name": "stdout",
          "text": [
            "Extracting ./data/MNIST/raw/train-labels-idx1-ubyte.gz to ./data/MNIST/raw\n",
            "\n",
            "Downloading http://yann.lecun.com/exdb/mnist/t10k-images-idx3-ubyte.gz\n",
            "Failed to download (trying next):\n",
            "HTTP Error 403: Forbidden\n",
            "\n",
            "Downloading https://ossci-datasets.s3.amazonaws.com/mnist/t10k-images-idx3-ubyte.gz\n",
            "Downloading https://ossci-datasets.s3.amazonaws.com/mnist/t10k-images-idx3-ubyte.gz to ./data/MNIST/raw/t10k-images-idx3-ubyte.gz\n"
          ]
        },
        {
          "output_type": "stream",
          "name": "stderr",
          "text": [
            "100%|██████████| 1648877/1648877 [00:00<00:00, 4443229.65it/s]\n"
          ]
        },
        {
          "output_type": "stream",
          "name": "stdout",
          "text": [
            "Extracting ./data/MNIST/raw/t10k-images-idx3-ubyte.gz to ./data/MNIST/raw\n",
            "\n",
            "Downloading http://yann.lecun.com/exdb/mnist/t10k-labels-idx1-ubyte.gz\n",
            "Failed to download (trying next):\n",
            "HTTP Error 403: Forbidden\n",
            "\n",
            "Downloading https://ossci-datasets.s3.amazonaws.com/mnist/t10k-labels-idx1-ubyte.gz\n",
            "Downloading https://ossci-datasets.s3.amazonaws.com/mnist/t10k-labels-idx1-ubyte.gz to ./data/MNIST/raw/t10k-labels-idx1-ubyte.gz\n"
          ]
        },
        {
          "output_type": "stream",
          "name": "stderr",
          "text": [
            "100%|██████████| 4542/4542 [00:00<00:00, 4861068.84it/s]"
          ]
        },
        {
          "output_type": "stream",
          "name": "stdout",
          "text": [
            "Extracting ./data/MNIST/raw/t10k-labels-idx1-ubyte.gz to ./data/MNIST/raw\n",
            "\n"
          ]
        },
        {
          "output_type": "stream",
          "name": "stderr",
          "text": [
            "\n"
          ]
        }
      ]
    },
    {
      "cell_type": "markdown",
      "source": [
        "**Display the mnist dataset**\n",
        "# Question 1 - Display MNIST Dataset"
      ],
      "metadata": {
        "id": "bogsK5blFlxe"
      }
    },
    {
      "cell_type": "code",
      "metadata": {
        "id": "hFSA2xnqfC2n",
        "colab": {
          "base_uri": "https://localhost:8080/",
          "height": 843
        },
        "outputId": "57b1f3d0-21fe-4722-d4d6-da98a010b8c7"
      },
      "source": [
        "# Get one image from the dataset\n",
        "for images, labels in trainloader:\n",
        "    X_train = images[0].squeeze().numpy()  # Convert tensor to numpy array and squeeze it to remove the channel dimension\n",
        "    break  # break to get only one image\n",
        "\n",
        "# Plot the image\n",
        "plt.imshow(X_train, cmap=plt.get_cmap('gray'))\n",
        "plt.show()\n",
        "\n",
        "\n",
        "# Show the third image\n",
        "\n",
        "for images, labels in trainloader:\n",
        "    ## Answer Here ##\n",
        "    break  # break to get only one image\n",
        "\n",
        "# Plot the image\n",
        "plt.imshow(X_train, cmap=plt.get_cmap('gray'))\n",
        "plt.show()\n",
        "\n",
        "\n",
        "\n",
        "# show the plot\n",
        "plt.show()"
      ],
      "execution_count": null,
      "outputs": [
        {
          "output_type": "display_data",
          "data": {
            "text/plain": [
              "<Figure size 640x480 with 1 Axes>"
            ],
            "image/png": "[encoded data removed]"
          },
          "metadata": {}
        },
        {
          "output_type": "display_data",
          "data": {
            "text/plain": [
              "<Figure size 640x480 with 1 Axes>"
            ],
            "image/png": "[encoded data removed]"
          },
          "metadata": {}
        }
      ]
    },
    {
      "cell_type": "markdown",
      "source": [
        "**Method 1**"
      ],
      "metadata": {
        "id": "11TRdY5xDF_-"
      }
    },
    {
      "cell_type": "code",
      "source": [
        "images_3_and_4 = {}  # Dictionary to store images with their labels\n",
        "\n",
        "# Get 3rd and 4th images from the dataset\n",
        "count = 0\n",
        "for images, labels in trainloader:\n",
        "    for i in range(len(labels)):\n",
        "        label = labels[i].item()\n",
        "        if label == 3 or label == 4:\n",
        "            count += 1\n",
        "            if label not in images_3_and_4:\n",
        "                images_3_and_4[label] = images[i].squeeze().numpy()  # Convert tensor to numpy array and squeeze it to remove the channel dimension\n",
        "        if len(images_3_and_4) == 2:\n",
        "            break\n",
        "    if len(images_3_and_4) == 2:\n",
        "        break  # Stop once we have both images\n",
        "\n",
        "# Plot the images\n",
        "plt.figure(figsize=(8, 4))\n",
        "\n",
        "plt.subplot(121)\n",
        "plt.imshow(images_3_and_4[3], cmap=plt.get_cmap('gray'))\n",
        "plt.title(\"Image 3\")\n",
        "\n",
        "plt.subplot(122)\n",
        "plt.imshow(images_3_and_4[4], cmap=plt.get_cmap('gray'))\n",
        "plt.title(\"Image 4\")\n",
        "\n",
        "plt.show()\n"
      ],
      "metadata": {
        "id": "cDDPdk7H4kS_",
        "colab": {
          "base_uri": "https://localhost:8080/",
          "height": 364
        },
        "outputId": "e56221a2-e017-4fe4-fcfd-95230ad2df5f"
      },
      "execution_count": null,
      "outputs": [
        {
          "output_type": "display_data",
          "data": {
            "text/plain": [
              "<Figure size 800x400 with 2 Axes>"
            ],
            "image/png": "[encoded data removed]"
          },
          "metadata": {}
        }
      ]
    },
    {
      "cell_type": "markdown",
      "source": [
        "**Method 2**"
      ],
      "metadata": {
        "id": "5s6hGGj4DLlt"
      }
    },
    {
      "cell_type": "code",
      "source": [
        "# Filter the dataset to include only labels 3 and 4\n",
        "indices_3 = (trainset.targets == 3).nonzero(as_tuple=True)[0]\n",
        "indices_4 = (trainset.targets == 4).nonzero(as_tuple=True)[0]\n",
        "indices = torch.cat((indices_3[:1], indices_4[:1]))  # Concatenate the indices of 3rd and 4th images\n",
        "\n",
        "# Load the images corresponding to the filtered indices\n",
        "images_3_and_4 = torch.stack([trainset[i][0] for i in indices])\n",
        "\n",
        "# Plot the images\n",
        "plt.figure(figsize=(8, 4))\n",
        "\n",
        "plt.subplot(121)\n",
        "plt.imshow(images_3_and_4[0].squeeze(), cmap='gray')\n",
        "plt.title(\"Image 3\")\n",
        "\n",
        "plt.subplot(122)\n",
        "plt.imshow(images_3_and_4[1].squeeze(), cmap='gray')\n",
        "plt.title(\"Image 4\")"
      ],
      "metadata": {
        "id": "n7zYIvzK5SOI",
        "colab": {
          "base_uri": "https://localhost:8080/",
          "height": 381
        },
        "outputId": "d64bed5d-1413-4c7a-df7e-12cafd61546a"
      },
      "execution_count": null,
      "outputs": [
        {
          "output_type": "execute_result",
          "data": {
            "text/plain": [
              "Text(0.5, 1.0, 'Image 4')"
            ]
          },
          "metadata": {},
          "execution_count": 6
        },
        {
          "output_type": "display_data",
          "data": {
            "text/plain": [
              "<Figure size 800x400 with 2 Axes>"
            ],
            "image/png": "[encoded data removed]"
          },
          "metadata": {}
        }
      ]
    },
    {
      "cell_type": "markdown",
      "source": [
        "**Convert data from matrix to vector and Normalize**\n",
        "# Question 2 - One Hot Encoding"
      ],
      "metadata": {
        "id": "LF080auXUruC"
      }
    },
    {
      "cell_type": "code",
      "metadata": {
        "id": "jB1WgRhQfAZ9",
        "colab": {
          "base_uri": "https://localhost:8080/"
        },
        "outputId": "c5f1db2c-5521-49a9-e4fa-486a38c72869"
      },
      "source": [
        "import torch.nn.functional as F\n",
        "# Flatten the images and one-hot encode the labels\n",
        "def preprocess_data(loader):\n",
        "    images_list = []\n",
        "    labels_list = []\n",
        "\n",
        "    for images, labels in loader:\n",
        "        # Flatten the images\n",
        "        images = images.view(images.shape[0], -1).float()\n",
        "\n",
        "        # Normalize images from range [-1, 1] to [0, 1]\n",
        "        images = (images + 1) / 2\n",
        "\n",
        "        # One-hot encode the labels\n",
        "        labels = F.one_hot(labels, num_classes=10).float()\n",
        "\n",
        "        images_list.append(images)\n",
        "        labels_list.append(labels)\n",
        "\n",
        "    # Concatenate all batches\n",
        "    images = torch.cat(images_list)\n",
        "    labels = torch.cat(labels_list)\n",
        "\n",
        "    return images, labels\n",
        "\n",
        "# Preprocess the training and test data\n",
        "X_train, y_train = preprocess_data(trainloader)\n",
        "X_test, y_test = preprocess_data(testloader)\n",
        "\n",
        "# Check the shapes of the processed data\n",
        "print(f\"X_train shape: {X_train.shape}\")\n",
        "print(f\"y_train shape: {y_train.shape}\")\n",
        "print(f\"X_test shape: {X_test.shape}\")\n",
        "print(f\"y_test shape: {y_test.shape}\")"
      ],
      "execution_count": null,
      "outputs": [
        {
          "output_type": "stream",
          "name": "stdout",
          "text": [
            "X_train shape: torch.Size([60000, 784])\n",
            "y_train shape: torch.Size([60000, 10])\n",
            "X_test shape: torch.Size([10000, 784])\n",
            "y_test shape: torch.Size([10000, 10])\n"
          ]
        }
      ]
    },
    {
      "cell_type": "code",
      "source": [
        "print(type(X_train), X_train.shape, y_train[0])"
      ],
      "metadata": {
        "id": "Taoy88XWfCY4",
        "collapsed": true,
        "colab": {
          "base_uri": "https://localhost:8080/"
        },
        "outputId": "c1ae2908-4d16-4106-bffa-e49ac1b736c0"
      },
      "execution_count": null,
      "outputs": [
        {
          "output_type": "stream",
          "name": "stdout",
          "text": [
            "<class 'torch.Tensor'> torch.Size([60000, 784]) tensor([0., 0., 0., 0., 0., 1., 0., 0., 0., 0.])\n"
          ]
        }
      ]
    },
    {
      "cell_type": "markdown",
      "source": [
        "**Create ANN**"
      ],
      "metadata": {
        "id": "tHZ9NKTVUyTy"
      }
    },
    {
      "cell_type": "markdown",
      "source": [
        "**Train the Model**\n",
        "\n",
        "\n"
      ],
      "metadata": {
        "id": "APcBiOhfU3t1"
      }
    },
    {
      "cell_type": "code",
      "source": [
        "# Check if GPU is available\n",
        "device = torch.device('cuda' if torch.cuda.is_available() else 'cpu')\n",
        "print(f'Using device: {device}')"
      ],
      "metadata": {
        "id": "NgwI6DvB-_go",
        "colab": {
          "base_uri": "https://localhost:8080/"
        },
        "outputId": "51a102aa-cadc-401c-8249-de9e6605d53a"
      },
      "execution_count": null,
      "outputs": [
        {
          "output_type": "stream",
          "name": "stdout",
          "text": [
            "Using device: cuda\n"
          ]
        }
      ]
    },
    {
      "cell_type": "code",
      "source": [
        "# Define the model\n",
        "class LargerModel(nn.Module):\n",
        "    def __init__(self, input_dim, num_classes):\n",
        "        super(LargerModel, self).__init__()\n",
        "        self.fc1 = nn.Linear(input_dim, input_dim)\n",
        "        self.fc2 = nn.Linear(input_dim, num_classes)\n",
        "\n",
        "    def forward(self, x):\n",
        "        x = torch.relu(self.fc1(x))\n",
        "        x = torch.softmax(self.fc2(x), dim=1)\n",
        "        return x"
      ],
      "metadata": {
        "id": "TxWE4dAWGS_d"
      },
      "execution_count": null,
      "outputs": []
    },
    {
      "cell_type": "code",
      "source": [
        "# Hyperparameters\n",
        "input_dim = 28 * 28  # Number of pixels in MNIST images\n",
        "num_classes = 10  # Number of classes in MNIST\n",
        "\n",
        "# Initialize the model\n",
        "model = LargerModel(input_dim, num_classes).to(device)\n",
        "\n",
        "# Loss and optimizer\n",
        "criterion = nn.CrossEntropyLoss()\n",
        "optimizer = optim.Adam(model.parameters(), lr=0.001)\n"
      ],
      "metadata": {
        "id": "biUInSPWHPRX"
      },
      "execution_count": null,
      "outputs": []
    },
    {
      "cell_type": "markdown",
      "source": [
        "**Training and Evaluation of the Model**"
      ],
      "metadata": {
        "id": "e_Ts_ioUDVQ3"
      }
    },
    {
      "cell_type": "code",
      "source": [
        "from tqdm import tqdm # for training progress bar\n",
        "\n",
        "# Lists to store metrics\n",
        "train_losses = []\n",
        "train_accuracies = []\n",
        "test_losses = []\n",
        "test_accuracies = []\n",
        "\n",
        "# Training loop\n",
        "num_epochs = 10\n",
        "\n",
        "for epoch in range(num_epochs):\n",
        "    model.train()\n",
        "    running_loss = 0.0\n",
        "    correct = 0\n",
        "    total = 0\n",
        "\n",
        "    # Training with progress bar\n",
        "    train_progress = tqdm(trainloader, desc=f\"Epoch {epoch + 1}/{num_epochs} Training\", leave=False)\n",
        "\n",
        "    for images, labels in train_progress:\n",
        "        # Move tensors to the configured device\n",
        "        images = images.view(images.size(0), -1).to(device)\n",
        "        labels = labels.to(device)\n",
        "\n",
        "        # Zero the parameter gradients\n",
        "        optimizer.zero_grad()\n",
        "\n",
        "        # Forward pass\n",
        "        outputs = model(images)\n",
        "\n",
        "        # Compute loss\n",
        "        loss = criterion(outputs, labels)\n",
        "\n",
        "        # Backward pass and optimize\n",
        "        loss.backward()\n",
        "        optimizer.step()\n",
        "\n",
        "        # Track loss and accuracy\n",
        "        running_loss += loss.item() * images.size(0)\n",
        "        _, predicted = torch.max(outputs.data, 1)\n",
        "        total += labels.size(0)\n",
        "        correct += (predicted == labels).sum().item()\n",
        "\n",
        "    train_loss = running_loss / total\n",
        "    train_accuracy = 100 * (correct / float(total))\n",
        "\n",
        "    # Save training loss and accuracy\n",
        "    train_losses.append(train_loss)\n",
        "    train_accuracies.append(train_accuracy)\n",
        "\n",
        "    print(f'\\nEpoch [{epoch + 1}/{num_epochs}], Train Loss: {train_loss:.4f}, Train Accuracy: {train_accuracy:.2f}%')\n",
        "\n",
        "    # Evaluate the model on the test set\n",
        "    model.eval()\n",
        "    test_loss = 0.0\n",
        "    correct = 0\n",
        "    total = 0\n",
        "\n",
        "    with torch.no_grad():\n",
        "        test_progress = tqdm(testloader, desc=f\"Epoch {epoch + 1}/{num_epochs} Testing\", leave=False)\n",
        "        for images, labels in test_progress:\n",
        "            images = images.view(images.size(0), -1).to(device)\n",
        "            labels = labels.to(device)\n",
        "            outputs = model(images)\n",
        "            loss = criterion(outputs, labels)\n",
        "            test_loss += loss.item() * images.size(0)\n",
        "            _, predicted = torch.max(outputs.data, 1)\n",
        "            total += labels.size(0)\n",
        "            correct += (predicted == labels).sum().item()\n",
        "\n",
        "    test_loss /= total\n",
        "    test_accuracy = 100 * (correct / float(total))\n",
        "\n",
        "    # Save test loss and accuracy\n",
        "    test_losses.append(test_loss)\n",
        "    test_accuracies.append(test_accuracy)\n",
        "\n",
        "    print(f'Epoch [{epoch + 1}/{num_epochs}], Test Loss: {test_loss:.4f}, Test Accuracy: {test_accuracy:.2f}%')\n",
        "\n",
        "print('Training complete')\n"
      ],
      "metadata": {
        "id": "Fmqmbkoi8jEa",
        "colab": {
          "base_uri": "https://localhost:8080/"
        },
        "outputId": "3481de93-33b2-4e10-d0ad-4f45312c418d"
      },
      "execution_count": null,
      "outputs": [
        {
          "output_type": "stream",
          "name": "stderr",
          "text": []
        },
        {
          "output_type": "stream",
          "name": "stdout",
          "text": [
            "\n",
            "Epoch [1/10], Train Loss: 1.6315, Train Accuracy: 83.76%\n"
          ]
        },
        {
          "output_type": "stream",
          "name": "stderr",
          "text": []
        },
        {
          "output_type": "stream",
          "name": "stdout",
          "text": [
            "Epoch [1/10], Test Loss: 1.5713, Test Accuracy: 89.20%\n"
          ]
        },
        {
          "output_type": "stream",
          "name": "stderr",
          "text": []
        },
        {
          "output_type": "stream",
          "name": "stdout",
          "text": [
            "\n",
            "Epoch [2/10], Train Loss: 1.5353, Train Accuracy: 92.83%\n"
          ]
        },
        {
          "output_type": "stream",
          "name": "stderr",
          "text": []
        },
        {
          "output_type": "stream",
          "name": "stdout",
          "text": [
            "Epoch [2/10], Test Loss: 1.5241, Test Accuracy: 93.90%\n"
          ]
        },
        {
          "output_type": "stream",
          "name": "stderr",
          "text": []
        },
        {
          "output_type": "stream",
          "name": "stdout",
          "text": [
            "\n",
            "Epoch [3/10], Train Loss: 1.5173, Train Accuracy: 94.55%\n"
          ]
        },
        {
          "output_type": "stream",
          "name": "stderr",
          "text": []
        },
        {
          "output_type": "stream",
          "name": "stdout",
          "text": [
            "Epoch [3/10], Test Loss: 1.5190, Test Accuracy: 94.34%\n"
          ]
        },
        {
          "output_type": "stream",
          "name": "stderr",
          "text": []
        },
        {
          "output_type": "stream",
          "name": "stdout",
          "text": [
            "\n",
            "Epoch [4/10], Train Loss: 1.5084, Train Accuracy: 95.45%\n"
          ]
        },
        {
          "output_type": "stream",
          "name": "stderr",
          "text": []
        },
        {
          "output_type": "stream",
          "name": "stdout",
          "text": [
            "Epoch [4/10], Test Loss: 1.5029, Test Accuracy: 95.82%\n"
          ]
        },
        {
          "output_type": "stream",
          "name": "stderr",
          "text": []
        },
        {
          "output_type": "stream",
          "name": "stdout",
          "text": [
            "\n",
            "Epoch [5/10], Train Loss: 1.5041, Train Accuracy: 95.80%\n"
          ]
        },
        {
          "output_type": "stream",
          "name": "stderr",
          "text": []
        },
        {
          "output_type": "stream",
          "name": "stdout",
          "text": [
            "Epoch [5/10], Test Loss: 1.5096, Test Accuracy: 95.23%\n"
          ]
        },
        {
          "output_type": "stream",
          "name": "stderr",
          "text": []
        },
        {
          "output_type": "stream",
          "name": "stdout",
          "text": [
            "\n",
            "Epoch [6/10], Train Loss: 1.4988, Train Accuracy: 96.32%\n"
          ]
        },
        {
          "output_type": "stream",
          "name": "stderr",
          "text": []
        },
        {
          "output_type": "stream",
          "name": "stdout",
          "text": [
            "Epoch [6/10], Test Loss: 1.5090, Test Accuracy: 95.26%\n"
          ]
        },
        {
          "output_type": "stream",
          "name": "stderr",
          "text": []
        },
        {
          "output_type": "stream",
          "name": "stdout",
          "text": [
            "\n",
            "Epoch [7/10], Train Loss: 1.4952, Train Accuracy: 96.67%\n"
          ]
        },
        {
          "output_type": "stream",
          "name": "stderr",
          "text": []
        },
        {
          "output_type": "stream",
          "name": "stdout",
          "text": [
            "Epoch [7/10], Test Loss: 1.4998, Test Accuracy: 96.27%\n"
          ]
        },
        {
          "output_type": "stream",
          "name": "stderr",
          "text": []
        },
        {
          "output_type": "stream",
          "name": "stdout",
          "text": [
            "\n",
            "Epoch [8/10], Train Loss: 1.4932, Train Accuracy: 96.86%\n"
          ]
        },
        {
          "output_type": "stream",
          "name": "stderr",
          "text": []
        },
        {
          "output_type": "stream",
          "name": "stdout",
          "text": [
            "Epoch [8/10], Test Loss: 1.4943, Test Accuracy: 96.73%\n"
          ]
        },
        {
          "output_type": "stream",
          "name": "stderr",
          "text": []
        },
        {
          "output_type": "stream",
          "name": "stdout",
          "text": [
            "\n",
            "Epoch [9/10], Train Loss: 1.4918, Train Accuracy: 96.99%\n"
          ]
        },
        {
          "output_type": "stream",
          "name": "stderr",
          "text": []
        },
        {
          "output_type": "stream",
          "name": "stdout",
          "text": [
            "Epoch [9/10], Test Loss: 1.4906, Test Accuracy: 97.05%\n"
          ]
        },
        {
          "output_type": "stream",
          "name": "stderr",
          "text": []
        },
        {
          "output_type": "stream",
          "name": "stdout",
          "text": [
            "\n",
            "Epoch [10/10], Train Loss: 1.4900, Train Accuracy: 97.17%\n"
          ]
        },
        {
          "output_type": "stream",
          "name": "stderr",
          "text": [
            "                                                                      "
          ]
        },
        {
          "output_type": "stream",
          "name": "stdout",
          "text": [
            "Epoch [10/10], Test Loss: 1.4921, Test Accuracy: 96.94%\n",
            "Training complete\n"
          ]
        },
        {
          "output_type": "stream",
          "name": "stderr",
          "text": [
            "\r"
          ]
        }
      ]
    },
    {
      "cell_type": "markdown",
      "source": [
        "# Answer Question 3 - Plot the Loss Graph"
      ],
      "metadata": {
        "id": "PEZHsCT3Wc_K"
      }
    },
    {
      "cell_type": "code",
      "source": [
        "#You need to plot training and validation Lossess\n",
        "#Pytorch does not save training history. Save these lists to a file or process them further as needed.\n",
        "plt.plot(train_accuracies, label='Training Accuracy')\n",
        "plt.plot(test_accuracies, label='Test Accuracy')\n",
        "plt.title('Model Accuracy')\n",
        "plt.xlabel('Epoch')\n",
        "plt.ylabel('Accuracy')\n",
        "plt.legend()\n",
        "plt.show()\n",
        "\n",
        "# Plot Loss Graph\n",
        "## Answer Here ##\n",
        "plt.title('Model Losses')\n",
        "plt.xlabel('Epoch')\n",
        "plt.ylabel('Loss')\n",
        "plt.legend()\n",
        "plt.show()\n",
        "\n",
        "\n"
      ],
      "metadata": {
        "id": "_dVu8PjyWkN3",
        "colab": {
          "base_uri": "https://localhost:8080/",
          "height": 944
        },
        "outputId": "e51e2dcf-df18-4090-d843-3861f59e4127"
      },
      "execution_count": null,
      "outputs": [
        {
          "output_type": "display_data",
          "data": {
            "text/plain": [
              "<Figure size 640x480 with 1 Axes>"
            ],
            "image/png": "[encoded data removed]"
          },
          "metadata": {}
        },
        {
          "output_type": "stream",
          "name": "stderr",
          "text": [
            "WARNING:matplotlib.legend:No artists with labels found to put in legend.  Note that artists whose label start with an underscore are ignored when legend() is called with no argument.\n"
          ]
        },
        {
          "output_type": "display_data",
          "data": {
            "text/plain": [
              "<Figure size 640x480 with 1 Axes>"
            ],
            "image/png": "[encoded data removed]"
          },
          "metadata": {}
        }
      ]
    },
    {
      "cell_type": "markdown",
      "source": [
        "**`Evaluate the Model and Display the Test Data`**"
      ],
      "metadata": {
        "id": "dnsFxItfU8b2"
      }
    },
    {
      "cell_type": "code",
      "metadata": {
        "id": "Hs6O9DmEuUnn",
        "colab": {
          "base_uri": "https://localhost:8080/"
        },
        "outputId": "93fcae74-17ba-42f0-91d2-59c8645e2222"
      },
      "source": [
        "# Evaluate the model on the test set\n",
        "model.eval()  # Set the model to evaluation mode\n",
        "correct = 0\n",
        "total = 0\n",
        "\n",
        "with torch.no_grad():\n",
        "    for images, labels in testloader:\n",
        "        images = images.view(images.size(0), -1).to(device)\n",
        "        labels = labels.to(device)\n",
        "        outputs = model(images)\n",
        "        _, predicted = torch.max(outputs.data, 1)\n",
        "        total += labels.size(0)\n",
        "        correct += (predicted == labels).sum().item()\n",
        "\n",
        "# Calculate accuracy\n",
        "test_accuracy = 100 * correct / total\n",
        "print(\"Accuracy: %.2f%%\" % test_accuracy)\n",
        "print(\"Baseline Error: %.2f%%\" % (100 - test_accuracy))\n"
      ],
      "execution_count": null,
      "outputs": [
        {
          "output_type": "stream",
          "name": "stdout",
          "text": [
            "Accuracy: 96.94%\n",
            "Baseline Error: 3.06%\n"
          ]
        }
      ]
    },
    {
      "cell_type": "markdown",
      "source": [
        "**Get the prediction**\n",
        "\n",
        "\n",
        "\n",
        "# Answer Question 4 - Predict The Test Data"
      ],
      "metadata": {
        "id": "shNXJv1zVeSm"
      }
    },
    {
      "cell_type": "code",
      "metadata": {
        "id": "hJflZDDvHXbP",
        "colab": {
          "base_uri": "https://localhost:8080/",
          "height": 587
        },
        "outputId": "2d19d7c8-c487-48a2-d324-7921d5694e5a"
      },
      "source": [
        "# Predict Data\n",
        "# Move the model to the desired device (GPU)\n",
        "load_model = model.to(device)\n",
        "load_model.eval()  # Set the model to evaluation mode\n",
        "\n",
        "# Get the 5000th image and its label from the test set\n",
        "image, label = testset[49]\n",
        "\n",
        "# Display the image\n",
        "plt.imshow(image.squeeze().numpy(), cmap='gray')\n",
        "plt.title(f\"True Label: {label}\")\n",
        "plt.axis('off')\n",
        "plt.show()\n",
        "\n",
        "# Preprocess the image (flatten it to match the expected input size)\n",
        "input_image = image.view(-1, 28*28)  # Flatten the image\n",
        "input_image = input_image.to(device)  # Move to the desired device (GPU or CPU)\n",
        "\n",
        "# Predict\n",
        "with torch.no_grad():\n",
        "    output = load_model(input_image)  # Forward pass\n",
        "    probabilities = F.softmax(output, dim=1)  # Compute probabilities\n",
        "    ## Answer Here ##\n",
        "\n",
        "# Display the predicted class\n",
        "print(f\"Predicted Class: {predicted_class}\")\n"
      ],
      "execution_count": null,
      "outputs": [
        {
          "output_type": "display_data",
          "data": {
            "text/plain": [
              "<Figure size 640x480 with 1 Axes>"
            ],
            "image/png": "[encoded data removed]"
          },
          "metadata": {}
        },
        {
          "output_type": "error",
          "ename": "NameError",
          "evalue": "name 'predicted_class' is not defined",
          "traceback": [
            "\u001b[0;31m---------------------------------------------------------------------------\u001b[0m",
            "\u001b[0;31mNameError\u001b[0m                                 Traceback (most recent call last)",
            "\u001b[0;32m<ipython-input-15-90bd5304106d>\u001b[0m in \u001b[0;36m<cell line: 26>\u001b[0;34m()\u001b[0m\n\u001b[1;32m     24\u001b[0m \u001b[0;34m\u001b[0m\u001b[0m\n\u001b[1;32m     25\u001b[0m \u001b[0;31m# Display the predicted class\u001b[0m\u001b[0;34m\u001b[0m\u001b[0;34m\u001b[0m\u001b[0m\n\u001b[0;32m---> 26\u001b[0;31m \u001b[0mprint\u001b[0m\u001b[0;34m(\u001b[0m\u001b[0;34mf\"Predicted Class: {predicted_class}\"\u001b[0m\u001b[0;34m)\u001b[0m\u001b[0;34m\u001b[0m\u001b[0;34m\u001b[0m\u001b[0m\n\u001b[0m",
            "\u001b[0;31mNameError\u001b[0m: name 'predicted_class' is not defined"
          ]
        }
      ]
    },
    {
      "cell_type": "markdown",
      "source": [
        "**Save and Load the Trained Model**\n",
        "# Question 5 - Save The Model"
      ],
      "metadata": {
        "id": "XauwUof-W2BA"
      }
    },
    {
      "cell_type": "code",
      "source": [
        "#You need to save and load your model in the Colab Notebooks Folder in the Model Sub-folder\n",
        "\n",
        "import os\n",
        "\n",
        "# Define the path to save the model\n",
        "save_path = '/content/drive/My Drive/Colab Notebooks/MNIST_MODEL/model.pt'\n",
        "\n",
        "# Create the parent directory if it doesn't exist\n",
        "os.makedirs(os.path.dirname(save_path), exist_ok=True)\n",
        "\n",
        "# Check if the parent directory exists\n",
        "parent_dir_exists = os.path.exists(os.path.dirname(save_path))\n",
        "print(f\"Parent directory exists: {parent_dir_exists}\")\n",
        "\n",
        "# Save model\n",
        "## Answer Here ##\n",
        "print(f\"Model saved to: {save_path}\")\n",
        "\n"
      ],
      "metadata": {
        "id": "p6hdkfpRW7H_",
        "colab": {
          "base_uri": "https://localhost:8080/"
        },
        "outputId": "42de2201-6921-463b-d05d-9186875f850e"
      },
      "execution_count": null,
      "outputs": [
        {
          "output_type": "stream",
          "name": "stdout",
          "text": [
            "Parent directory exists: True\n",
            "Model saved to: /content/drive/My Drive/Colab Notebooks/MNIST_MODEL/model.pt\n"
          ]
        }
      ]
    },
    {
      "cell_type": "code",
      "source": [
        "!ls '/content/drive/My Drive/Colab Notebooks'"
      ],
      "metadata": {
        "id": "QlOxGC31I59m",
        "colab": {
          "base_uri": "https://localhost:8080/"
        },
        "outputId": "878d2cda-77eb-4cc3-bbef-28cd2c4a7b35"
      },
      "execution_count": null,
      "outputs": [
        {
          "output_type": "stream",
          "name": "stdout",
          "text": [
            " data_iris.csv\t       'FYP (1).ipynb'\t MNIST_MODEL\t   Try2.ipynb\n",
            " data_pima_indian.csv   FYP2\t\t model.pt\t   Untitled0.ipynb\n",
            " dataset\t        FYP.ipynb\t Modeltest.ipynb   Untitled1.ipynb\n"
          ]
        }
      ]
    }
  ]
}