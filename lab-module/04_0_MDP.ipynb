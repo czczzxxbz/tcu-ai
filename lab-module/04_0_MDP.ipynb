{
  "nbformat": 4,
  "nbformat_minor": 0,
  "metadata": {
    "colab": {
      "provenance": []
    },
    "kernelspec": {
      "name": "python3",
      "display_name": "Python 3"
    },
    "language_info": {
      "name": "python"
    }
  },
  "cells": [
    {
      "cell_type": "markdown",
      "source": [
        "Example 2:\n",
        "MDP for Robot Navigation (Stochastic)\n",
        "\n",
        "This MDP represents a robot navigating through a grid with stochastic outcomes (actions have a probability of failure).\n"
      ],
      "metadata": {
        "id": "1Dz0K7UXFXh-"
      }
    },
    {
      "cell_type": "code",
      "execution_count": null,
      "metadata": {
        "id": "zCQiLlf4FUjB"
      },
      "outputs": [],
      "source": [
        "import random\n",
        "\n",
        "class StochasticGridMDP:\n",
        "    def __init__(self, grid_size, start_state, goal_state, action_fail_prob=0.2):\n",
        "        self.grid_size = grid_size\n",
        "        self.start_state = start_state\n",
        "        self.goal_state = goal_state\n",
        "        self.state = start_state\n",
        "        self.action_fail_prob = action_fail_prob\n",
        "\n",
        "    def get_possible_actions(self):\n",
        "        return ['up', 'down', 'left', 'right']\n",
        "\n",
        "    def take_action(self, action):\n",
        "        # With some probability, action will fail and result in a random move\n",
        "        if random.random() < self.action_fail_prob:\n",
        "            action = random.choice(self.get_possible_actions())\n",
        "\n",
        "        x, y = self.state\n",
        "        if action == 'up':\n",
        "            self.state = (max(0, x-1), y)\n",
        "        elif action == 'down':\n",
        "            self.state = (min(self.grid_size[0]-1, x+1), y)\n",
        "        elif action == 'left':\n",
        "            self.state = (x, max(0, y-1))\n",
        "        elif action == 'right':\n",
        "            self.state = (x, min(self.grid_size[1]-1, y+1))\n",
        "\n",
        "        reward = 1 if self.state == self.goal_state else -0.1\n",
        "        done = self.state == self.goal_state\n",
        "        return self.state, reward, done\n",
        "\n",
        "    def reset(self):\n",
        "        self.state = self.start_state\n",
        "        return self.state\n",
        "\n",
        "# Initialize the MDP\n",
        "stochastic_mdp = StochasticGridMDP(grid_size=(5, 5), start_state=(0, 0), goal_state=(4, 4), action_fail_prob=0.3)\n",
        "\n",
        "# Example run\n",
        "state = stochastic_mdp.reset()\n",
        "done = False\n",
        "total_reward = 0\n",
        "\n",
        "while not done:\n",
        "    action = np.random.choice(stochastic_mdp.get_possible_actions())\n",
        "    next_state, reward, done = stochastic_mdp.take_action(action)\n",
        "    total_reward += reward\n",
        "    print(f\"Action: {action}, New State: {next_state}, Reward: {reward}, Done: {done}\")\n",
        "\n",
        "print(f\"Total Reward: {total_reward}\")\n",
        "\n"
      ]
    }
  ]
}
