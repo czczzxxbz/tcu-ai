{
  "nbformat": 4,
  "nbformat_minor": 0,
  "metadata": {
    "colab": {
      "provenance": []
    },
    "kernelspec": {
      "name": "python3",
      "display_name": "Python 3"
    },
    "language_info": {
      "name": "python"
    }
  },
  "cells": [
    {
      "cell_type": "markdown",
      "source": [
        "Example 1:\n",
        "Simple Gridworld MDP\n",
        "\n",
        "This MDP represents a simple grid where an agent starts at one point and tries to reach a goal.\n"
      ],
      "metadata": {
        "id": "vMDxEdjCFm7g"
      }
    },
    {
      "cell_type": "code",
      "execution_count": null,
      "metadata": {
        "colab": {
          "base_uri": "https://localhost:8080/"
        },
        "id": "BOaDtQi6D1Zo",
        "outputId": "5489dd55-33a5-4977-aa45-c392977857a1"
      },
      "outputs": [
        {
          "output_type": "stream",
          "name": "stdout",
          "text": [
            "Action: left, New State: (0, 0), Reward: 0.0, Done: False\n",
            "Action: down, New State: (1, 0), Reward: 0.0, Done: False\n",
            "Action: up, New State: (0, 0), Reward: 0.0, Done: False\n",
            "Action: down, New State: (1, 0), Reward: 0.0, Done: False\n",
            "Action: left, New State: (1, 0), Reward: 0.0, Done: False\n",
            "Action: down, New State: (2, 0), Reward: 0.0, Done: False\n",
            "Action: up, New State: (1, 0), Reward: 0.0, Done: False\n",
            "Action: left, New State: (1, 0), Reward: 0.0, Done: False\n",
            "Action: left, New State: (1, 0), Reward: 0.0, Done: False\n",
            "Action: left, New State: (1, 0), Reward: 0.0, Done: False\n",
            "Action: down, New State: (2, 0), Reward: 0.0, Done: False\n",
            "Action: up, New State: (1, 0), Reward: 0.0, Done: False\n",
            "Action: right, New State: (1, 1), Reward: 0.0, Done: False\n",
            "Action: up, New State: (0, 1), Reward: 0.0, Done: False\n",
            "Action: down, New State: (1, 1), Reward: 0.0, Done: False\n",
            "Action: up, New State: (0, 1), Reward: 0.0, Done: False\n",
            "Action: left, New State: (0, 0), Reward: 0.0, Done: False\n",
            "Action: down, New State: (1, 0), Reward: 0.0, Done: False\n",
            "Action: right, New State: (1, 1), Reward: 0.0, Done: False\n",
            "Action: up, New State: (0, 1), Reward: 0.0, Done: False\n",
            "Action: up, New State: (0, 1), Reward: 0.0, Done: False\n",
            "Action: right, New State: (0, 2), Reward: 0.0, Done: False\n",
            "Action: left, New State: (0, 1), Reward: 0.0, Done: False\n",
            "Action: right, New State: (0, 2), Reward: 0.0, Done: False\n",
            "Action: left, New State: (0, 1), Reward: 0.0, Done: False\n",
            "Action: up, New State: (0, 1), Reward: 0.0, Done: False\n",
            "Action: down, New State: (1, 1), Reward: 0.0, Done: False\n",
            "Action: down, New State: (2, 1), Reward: 0.0, Done: False\n",
            "Action: right, New State: (2, 2), Reward: 0.0, Done: False\n",
            "Action: down, New State: (3, 2), Reward: 0.0, Done: False\n",
            "Action: down, New State: (3, 2), Reward: 0.0, Done: False\n",
            "Action: up, New State: (2, 2), Reward: 0.0, Done: False\n",
            "Action: up, New State: (1, 2), Reward: 0.0, Done: False\n",
            "Action: left, New State: (1, 1), Reward: 0.0, Done: False\n",
            "Action: down, New State: (2, 1), Reward: 0.0, Done: False\n",
            "Action: right, New State: (2, 2), Reward: 0.0, Done: False\n",
            "Action: left, New State: (2, 1), Reward: 0.0, Done: False\n",
            "Action: down, New State: (3, 1), Reward: 0.0, Done: False\n",
            "Action: right, New State: (3, 2), Reward: 0.0, Done: False\n",
            "Action: down, New State: (3, 2), Reward: 0.0, Done: False\n",
            "Action: up, New State: (2, 2), Reward: 0.0, Done: False\n",
            "Action: down, New State: (3, 2), Reward: 0.0, Done: False\n",
            "Action: right, New State: (3, 3), Reward: 1.0, Done: True\n",
            "Total Reward: 1.0\n"
          ]
        }
      ],
      "source": [
        "\n",
        "import numpy as np\n",
        "\n",
        "class GridWorldMDP:\n",
        "    def __init__(self, grid_size, start_state, goal_state, reward_grid=None):\n",
        "        self.grid_size = grid_size\n",
        "        self.start_state = start_state\n",
        "        self.goal_state = goal_state\n",
        "        self.state = start_state\n",
        "        self.reward_grid = reward_grid if reward_grid is not None else np.zeros(grid_size)\n",
        "        self.reward_grid[goal_state] = 1.0  # Goal state reward\n",
        "\n",
        "    def get_possible_actions(self):\n",
        "        return ['up', 'down', 'left', 'right']\n",
        "\n",
        "    def take_action(self, action):\n",
        "        x, y = self.state\n",
        "        if action == 'up':\n",
        "            self.state = (max(0, x-1), y)\n",
        "        elif action == 'down':\n",
        "            self.state = (min(self.grid_size[0]-1, x+1), y)\n",
        "        elif action == 'left':\n",
        "            self.state = (x, max(0, y-1))\n",
        "        elif action == 'right':\n",
        "            self.state = (x, min(self.grid_size[1]-1, y+1))\n",
        "\n",
        "        reward = self.reward_grid[self.state]\n",
        "        done = self.state == self.goal_state\n",
        "        return self.state, reward, done\n",
        "\n",
        "    def reset(self):\n",
        "        self.state = self.start_state\n",
        "        return self.state\n",
        "\n",
        "# Initialize the MDP\n",
        "mdp = GridWorldMDP(grid_size=(4, 4), start_state=(0, 0), goal_state=(3, 3))\n",
        "\n",
        "# Example run\n",
        "state = mdp.reset()\n",
        "done = False\n",
        "total_reward = 0\n",
        "\n",
        "while not done:\n",
        "    action = np.random.choice(mdp.get_possible_actions())\n",
        "    next_state, reward, done = mdp.take_action(action)\n",
        "    total_reward += reward\n",
        "    print(f\"Action: {action}, New State: {next_state}, Reward: {reward}, Done: {done}\")\n",
        "\n",
        "print(f\"Total Reward: {total_reward}\")\n",
        "\n"
      ]
    },
    {
      "cell_type": "code",
      "source": [],
      "metadata": {
        "id": "bB3NquBbEnyZ"
      },
      "execution_count": null,
      "outputs": []
    }
  ]
}
